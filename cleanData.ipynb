{
 "cells": [
  {
   "cell_type": "code",
   "execution_count": 2,
   "metadata": {},
   "outputs": [],
   "source": [
    "import pandas as pd\n",
    "import re\n",
    "from urllib.parse import urlparse"
   ]
  },
  {
   "cell_type": "code",
   "execution_count": 3,
   "metadata": {},
   "outputs": [
    {
     "name": "stdout",
     "output_type": "stream",
     "text": [
      "Index(['year', 'release_date', 'title', 'genre', 'international_box_office',\n",
      "       'domestic_box_office', 'worldwide_box_office', 'production_budget',\n",
      "       'Unnamed: 8', 'opening_weekend', 'theatre_count', 'avg run per theatre',\n",
      "       'runtime', 'keywords', 'creative_type', 'url'],\n",
      "      dtype='object')\n",
      "Number of non-null rows in 'title' column: 30612\n",
      "Total number of rows in the DataFrame: 30612\n"
     ]
    }
   ],
   "source": [
    "# Read the Sales Data file\n",
    "df1 = pd.read_csv('C:\\\\Users\\\\pc\\\\Downloads\\\\Test\\\\salesData.csv',  encoding='ISO-8859-1')  # If the delimiter is different, replace '\\t' with ',' or ' '\n",
    "\n",
    "# View the columns to check if it works\n",
    "print(df1.columns)\n",
    "\n",
    "#drop all columns except title\n",
    "df1 = df1.drop(columns=['year', 'release_date', 'genre', 'international_box_office',\n",
    "       'domestic_box_office', 'worldwide_box_office', 'production_budget',\n",
    "       'Unnamed: 8', 'opening_weekend', 'theatre_count', 'avg run per theatre',\n",
    "       'runtime', 'keywords', 'creative_type', 'url'])\n",
    "\n",
    "\n",
    "# Function to clean the title text\n",
    "def clean_text(text):\n",
    "    if pd.isna(text):  # Check if the text is NaN\n",
    "        return ''  # Return an empty string or handle NaN as needed\n",
    "    # Convert text to lowercase\n",
    "    text = text.lower()\n",
    "    # Remove special characters using regex (keeping only alphanumeric characters and spaces)\n",
    "    text = re.sub(r'[^a-z0-9\\s]', ' ', text)\n",
    "    return text\n",
    "\n",
    "# Apply the cleaning function to the 'title' column\n",
    "df1['title'] = df1['title'].apply(clean_text)\n",
    "\n",
    "df1.head()\n",
    "\n",
    "# Count non-null values in the 'title' column\n",
    "non_null_count = df1['title'].count()\n",
    "print(f\"Number of non-null rows in 'title' column: {non_null_count}\")\n",
    "# Count total rows in the DataFrame\n",
    "total_rows = df1.shape[0]\n",
    "print(f\"Total number of rows in the DataFrame: {total_rows}\")\n",
    "\n",
    "# search_title = '808'\n",
    "# result_df1 = df1.loc[df1['title'].str.contains(search_title, case=False, na=False)]\n",
    "\n",
    "#print(df1)\n",
    "\n",
    "\n"
   ]
  },
  {
   "cell_type": "code",
   "execution_count": 4,
   "metadata": {},
   "outputs": [],
   "source": [
    "#df1.to_csv('salesDataMovieTitles.csv', index=False, encoding='ISO-8859-1')"
   ]
  },
  {
   "cell_type": "code",
   "execution_count": 5,
   "metadata": {},
   "outputs": [
    {
     "name": "stdout",
     "output_type": "stream",
     "text": [
      "Index(['url', 'title', 'studio', 'rating', 'runtime', 'cast', 'director',\n",
      "       'genre', 'summary', 'awards', 'metascore', 'userscore', 'RelDate'],\n",
      "      dtype='object')\n",
      "Number of non-null rows in 'title' column: 11364\n",
      "Total number of rows in the DataFrame: 11364\n"
     ]
    }
   ],
   "source": [
    "\n",
    "# Read the metaClean43Brightspace.csv file\n",
    "df2 = pd.read_csv('C:\\\\Users\\\\pc\\\\Downloads\\\\Test\\\\metaClean43Brightspace.csv',  encoding='ISO-8859-1')  # If the delimiter is different, replace '\\t' with ',' or ' '\n",
    "\n",
    "# View the columns to check if it works\n",
    "print(df2.columns)\n",
    "\n",
    "#drop all columns and leave the title column\n",
    "df2 = df2.drop(columns=['url', 'studio', 'rating', 'runtime', 'cast', 'director',\n",
    "       'genre', 'summary', 'awards', 'metascore', 'userscore', 'RelDate'])\n",
    "\n",
    "\n",
    "\n",
    "# Function to clean the title text\n",
    "def clean_text(text):\n",
    "    # Convert text to lowercase\n",
    "    text = text.lower()\n",
    "    # Remove special characters using regex (keeping only alphanumeric characters and spaces)\n",
    "    text = re.sub(r'[^a-z0-9\\s]', '', text)\n",
    "    return text\n",
    "\n",
    "# Apply the cleaning function to the 'title' column\n",
    "df2['title'] = df2['title'].apply(clean_text)\n",
    "\n",
    "df2.head()\n",
    "\n",
    "# Count non-null values in the 'title' column\n",
    "non_null_count = df2['title'].count()\n",
    "print(f\"Number of non-null rows in 'title' column: {non_null_count}\")\n",
    "# Count total rows in the DataFrame\n",
    "total_rows = df2.shape[0]\n",
    "print(f\"Total number of rows in the DataFrame: {total_rows}\")\n",
    "\n",
    "# search_title = 'brother'\n",
    "# result_df2 = df2.loc[df['title'].str.contains(search_title, case=False, na=False)]\n",
    "\n",
    "\n",
    "# print(result_df2)"
   ]
  },
  {
   "cell_type": "code",
   "execution_count": 6,
   "metadata": {},
   "outputs": [],
   "source": [
    "df2.to_csv('metaCleanMovieTitles.csv', index=False, encoding='ISO-8859-1')"
   ]
  },
  {
   "cell_type": "code",
   "execution_count": 7,
   "metadata": {},
   "outputs": [
    {
     "name": "stdout",
     "output_type": "stream",
     "text": [
      "Index(['url', 'idvscore', 'reviewer', 'dateP', 'Rev', 'WC', 'Analytic',\n",
      "       'Clout', 'Authentic', 'Tone', 'WPS', 'Sixltr', 'Dic', 'function',\n",
      "       'pronoun', 'ppron', 'i', 'we', 'you', 'shehe', 'they', 'ipron',\n",
      "       'article', 'prep', 'auxverb', 'adverb', 'conj', 'negate', 'verb', 'adj',\n",
      "       'compare', 'interrog', 'number', 'quant', 'affect', 'posemo', 'negemo',\n",
      "       'anx', 'anger', 'sad', 'social', 'family', 'friend', 'female', 'male',\n",
      "       'cogproc', 'insight', 'cause', 'discrep', 'tentat', 'certain', 'differ',\n",
      "       'percept', 'see', 'hear', 'feel', 'bio', 'body', 'health', 'sexual',\n",
      "       'ingest', 'drives', 'affiliation', 'achieve', 'power', 'reward', 'risk',\n",
      "       'focuspast', 'focuspresent', 'focusfuture', 'relativ', 'motion',\n",
      "       'space', 'time', 'work', 'leisure', 'home', 'money', 'relig', 'death',\n",
      "       'informal', 'swear', 'netspeak', 'assent', 'nonflu', 'filler',\n",
      "       'AllPunc', 'Period', 'Comma', 'Colon', 'SemiC', 'QMark', 'Exclam',\n",
      "       'Dash', 'Quote', 'Apostro', 'Parenth', 'OtherP'],\n",
      "      dtype='object')\n"
     ]
    },
    {
     "data": {
      "text/html": [
       "<div>\n",
       "<style scoped>\n",
       "    .dataframe tbody tr th:only-of-type {\n",
       "        vertical-align: middle;\n",
       "    }\n",
       "\n",
       "    .dataframe tbody tr th {\n",
       "        vertical-align: top;\n",
       "    }\n",
       "\n",
       "    .dataframe thead th {\n",
       "        text-align: right;\n",
       "    }\n",
       "</style>\n",
       "<table border=\"1\" class=\"dataframe\">\n",
       "  <thead>\n",
       "    <tr style=\"text-align: right;\">\n",
       "      <th></th>\n",
       "      <th>url</th>\n",
       "    </tr>\n",
       "  </thead>\n",
       "  <tbody>\n",
       "    <tr>\n",
       "      <th>0</th>\n",
       "      <td>https://www.metacritic.com/movie/bronson</td>\n",
       "    </tr>\n",
       "    <tr>\n",
       "      <th>1</th>\n",
       "      <td>https://www.metacritic.com/movie/bronson</td>\n",
       "    </tr>\n",
       "    <tr>\n",
       "      <th>2</th>\n",
       "      <td>https://www.metacritic.com/movie/bronson</td>\n",
       "    </tr>\n",
       "    <tr>\n",
       "      <th>3</th>\n",
       "      <td>https://www.metacritic.com/movie/bronson</td>\n",
       "    </tr>\n",
       "    <tr>\n",
       "      <th>4</th>\n",
       "      <td>https://www.metacritic.com/movie/bronson</td>\n",
       "    </tr>\n",
       "  </tbody>\n",
       "</table>\n",
       "</div>"
      ],
      "text/plain": [
       "                                        url\n",
       "0  https://www.metacritic.com/movie/bronson\n",
       "1  https://www.metacritic.com/movie/bronson\n",
       "2  https://www.metacritic.com/movie/bronson\n",
       "3  https://www.metacritic.com/movie/bronson\n",
       "4  https://www.metacritic.com/movie/bronson"
      ]
     },
     "execution_count": 7,
     "metadata": {},
     "output_type": "execute_result"
    }
   ],
   "source": [
    "# Read the ExpertReviewsClean43LIWC.csv file\n",
    "df3 = pd.read_csv('C:\\\\Users\\\\pc\\\\Downloads\\\\Test\\\\ExpertReviewsClean43LIWC.csv',  encoding='ISO-8859-1')  \n",
    "\n",
    "# View the columns to check if the file was read successfully \n",
    "print(df3.columns)\n",
    "\n",
    "#drop columns\n",
    "df3 = df3.drop(columns=['idvscore', 'reviewer', 'dateP', 'Rev', 'WC', 'Analytic',\n",
    "       'Clout', 'Authentic', 'Tone', 'WPS', 'Sixltr', 'Dic', 'function',\n",
    "       'pronoun', 'ppron', 'i', 'we', 'you', 'shehe', 'they', 'ipron',\n",
    "       'article', 'prep', 'auxverb', 'adverb', 'conj', 'negate', 'verb', 'adj',\n",
    "       'compare', 'interrog', 'number', 'quant', 'affect', 'posemo', 'negemo',\n",
    "       'anx', 'anger', 'sad', 'social', 'family', 'friend', 'female', 'male',\n",
    "       'cogproc', 'insight', 'cause', 'discrep', 'tentat', 'certain', 'differ',\n",
    "       'percept', 'see', 'hear', 'feel', 'bio', 'body', 'health', 'sexual',\n",
    "       'ingest', 'drives', 'affiliation', 'achieve', 'power', 'reward', 'risk',\n",
    "       'focuspast', 'focuspresent', 'focusfuture', 'relativ', 'motion',\n",
    "       'space', 'time', 'work', 'leisure', 'home', 'money', 'relig', 'death',\n",
    "       'informal', 'swear', 'netspeak', 'assent', 'nonflu', 'filler',\n",
    "       'AllPunc', 'Period', 'Comma', 'Colon', 'SemiC', 'QMark', 'Exclam',\n",
    "       'Dash', 'Quote', 'Apostro', 'Parenth', 'OtherP'])\n",
    "\n",
    "df3.head()\n"
   ]
  },
  {
   "cell_type": "code",
   "execution_count": 8,
   "metadata": {},
   "outputs": [
    {
     "name": "stdout",
     "output_type": "stream",
     "text": [
      "Number of non-null rows in 'title' column: 238973\n",
      "Total number of rows in the DataFrame: 238973\n"
     ]
    },
    {
     "data": {
      "text/plain": [
       "0                            bronson\n",
       "1                           disgrace\n",
       "2                    a screaming man\n",
       "3                     lovers of hate\n",
       "4    phil ochs there but for fortune\n",
       "Name: title, dtype: object"
      ]
     },
     "execution_count": 8,
     "metadata": {},
     "output_type": "execute_result"
    }
   ],
   "source": [
    "#This code reads the url from ExpertReviewsClean43LIWC.csv and takes away all characters remaining the the movie title after the /\n",
    "# Read the ExpertReviewsClean43LIWC.csv file\n",
    "df31 = pd.read_csv('C:\\\\Users\\\\pc\\\\Downloads\\\\Test\\\\ExpertReviewURL.csv',  encoding='ISO-8859-1')  \n",
    "df31.head()\n",
    "\n",
    "#function to clean the url\n",
    "def extract_last_part(url):\n",
    "    path = urlparse(url).path\n",
    "    title = path.split('/')[-1]\n",
    "    return title\n",
    "\n",
    "# Apply the function to the 'URL' column to create a new 'title' column\n",
    "df31['title'] = df31['url'].apply(extract_last_part)\n",
    "\n",
    "# Function to clean the title text\n",
    "def clean_text(text):\n",
    "    if pd.isna(text):  # Check if the text is NaN\n",
    "        return ''  # Return an empty string or handle NaN as needed\n",
    "     #Convert text to lowercase\n",
    "    text = text.lower()\n",
    "    # Remove special characters using regex (keeping only alphanumeric characters and spaces)\n",
    "    text = re.sub(r'[^a-z0-9\\s]', ' ', text)\n",
    "    return text\n",
    "\n",
    "\n",
    "# Drop duplicates in the 'title' column to show each title just once\n",
    "expertReviews_unique_titles = df31['title'].drop_duplicates().reset_index(drop=True).apply(clean_text)\n",
    "\n",
    "# Count non-null values in the 'title' column\n",
    "non_null_count = df31['title'].count()\n",
    "print(f\"Number of non-null rows in 'title' column: {non_null_count}\")\n",
    "\n",
    "# Count total rows in the DataFrame\n",
    "total_rows = df31.shape[0]\n",
    "print(f\"Total number of rows in the DataFrame: {total_rows}\")\n",
    "\n",
    "#print(unique_titles)\n",
    "expertReviews_unique_titles.head()"
   ]
  },
  {
   "cell_type": "code",
   "execution_count": 9,
   "metadata": {},
   "outputs": [],
   "source": [
    "#expertReviews_unique_titles.to_csv('expertReviewsUniqueMovieTitles.csv', index=False, encoding='ISO-8859-1')"
   ]
  },
  {
   "cell_type": "code",
   "execution_count": 10,
   "metadata": {},
   "outputs": [
    {
     "name": "stderr",
     "output_type": "stream",
     "text": [
      "C:\\Users\\pc\\AppData\\Local\\Temp\\ipykernel_9704\\3941476314.py:2: DtypeWarning: Columns (1,5,6) have mixed types. Specify dtype option on import or set low_memory=False.\n",
      "  df4 = pd.read_csv('C:\\\\Users\\\\pc\\\\Downloads\\\\Test\\\\UserReviewsClean43LIWC.csv',  encoding='ISO-8859-1')\n"
     ]
    },
    {
     "name": "stdout",
     "output_type": "stream",
     "text": [
      "Index(['url', 'idvscore', 'reviewer', 'dateP', 'Rev', 'thumbsUp', 'thumbsTot',\n",
      "       'WC', 'Analytic', 'Clout', 'Authentic', 'Tone', 'WPS', 'Sixltr', 'Dic',\n",
      "       'function', 'pronoun', 'ppron', 'i', 'we', 'you', 'shehe', 'they',\n",
      "       'ipron', 'article', 'prep', 'auxverb', 'adverb', 'conj', 'negate',\n",
      "       'verb', 'adj', 'compare', 'interrog', 'number', 'quant', 'affect',\n",
      "       'posemo', 'negemo', 'anx', 'anger', 'sad', 'social', 'family', 'friend',\n",
      "       'female', 'male', 'cogproc', 'insight', 'cause', 'discrep', 'tentat',\n",
      "       'certain', 'differ', 'percept', 'see', 'hear', 'feel', 'bio', 'body',\n",
      "       'health', 'sexual', 'ingest', 'drives', 'affiliation', 'achieve',\n",
      "       'power', 'reward', 'risk', 'focuspast', 'focuspresent', 'focusfuture',\n",
      "       'relativ', 'motion', 'space', 'time', 'work', 'leisure', 'home',\n",
      "       'money', 'relig', 'death', 'informal', 'swear', 'netspeak', 'assent',\n",
      "       'nonflu', 'filler', 'AllPunc', 'Period', 'Comma', 'Colon', 'SemiC',\n",
      "       'QMark', 'Exclam', 'Dash', 'Quote', 'Apostro', 'Parenth', 'OtherP'],\n",
      "      dtype='object')\n"
     ]
    },
    {
     "data": {
      "text/html": [
       "<div>\n",
       "<style scoped>\n",
       "    .dataframe tbody tr th:only-of-type {\n",
       "        vertical-align: middle;\n",
       "    }\n",
       "\n",
       "    .dataframe tbody tr th {\n",
       "        vertical-align: top;\n",
       "    }\n",
       "\n",
       "    .dataframe thead th {\n",
       "        text-align: right;\n",
       "    }\n",
       "</style>\n",
       "<table border=\"1\" class=\"dataframe\">\n",
       "  <thead>\n",
       "    <tr style=\"text-align: right;\">\n",
       "      <th></th>\n",
       "      <th>url</th>\n",
       "    </tr>\n",
       "  </thead>\n",
       "  <tbody>\n",
       "    <tr>\n",
       "      <th>0</th>\n",
       "      <td>https://www.metacritic.com/movie/bronson</td>\n",
       "    </tr>\n",
       "    <tr>\n",
       "      <th>1</th>\n",
       "      <td>https://www.metacritic.com/movie/bronson</td>\n",
       "    </tr>\n",
       "    <tr>\n",
       "      <th>2</th>\n",
       "      <td>https://www.metacritic.com/movie/bronson</td>\n",
       "    </tr>\n",
       "    <tr>\n",
       "      <th>3</th>\n",
       "      <td>https://www.metacritic.com/movie/bronson</td>\n",
       "    </tr>\n",
       "    <tr>\n",
       "      <th>4</th>\n",
       "      <td>https://www.metacritic.com/movie/bronson</td>\n",
       "    </tr>\n",
       "  </tbody>\n",
       "</table>\n",
       "</div>"
      ],
      "text/plain": [
       "                                        url\n",
       "0  https://www.metacritic.com/movie/bronson\n",
       "1  https://www.metacritic.com/movie/bronson\n",
       "2  https://www.metacritic.com/movie/bronson\n",
       "3  https://www.metacritic.com/movie/bronson\n",
       "4  https://www.metacritic.com/movie/bronson"
      ]
     },
     "execution_count": 10,
     "metadata": {},
     "output_type": "execute_result"
    }
   ],
   "source": [
    "# Load the file with a different encoding (e.g., 'ISO-8859-1' or 'latin1')\n",
    "df4 = pd.read_csv('C:\\\\Users\\\\pc\\\\Downloads\\\\Test\\\\UserReviewsClean43LIWC.csv',  encoding='ISO-8859-1')  \n",
    "\n",
    "# View the columns to check if the file was read successfully \n",
    "\n",
    "print(df4.columns)\n",
    "\n",
    "#drop columns\n",
    "df4 = df4.drop(columns=['idvscore', 'reviewer', 'dateP', 'Rev', 'thumbsUp', 'thumbsTot',\n",
    "       'WC', 'Analytic', 'Clout', 'Authentic', 'Tone', 'WPS', 'Sixltr', 'Dic',\n",
    "       'function', 'pronoun', 'ppron', 'i', 'we', 'you', 'shehe', 'they',\n",
    "       'ipron', 'article', 'prep', 'auxverb', 'adverb', 'conj', 'negate',\n",
    "       'verb', 'adj', 'compare', 'interrog', 'number', 'quant', 'affect',\n",
    "       'posemo', 'negemo', 'anx', 'anger', 'sad', 'social', 'family', 'friend',\n",
    "       'female', 'male', 'cogproc', 'insight', 'cause', 'discrep', 'tentat',\n",
    "       'certain', 'differ', 'percept', 'see', 'hear', 'feel', 'bio', 'body',\n",
    "       'health', 'sexual', 'ingest', 'drives', 'affiliation', 'achieve',\n",
    "       'power', 'reward', 'risk', 'focuspast', 'focuspresent', 'focusfuture',\n",
    "       'relativ', 'motion', 'space', 'time', 'work', 'leisure', 'home',\n",
    "       'money', 'relig', 'death', 'informal', 'swear', 'netspeak', 'assent',\n",
    "       'nonflu', 'filler', 'AllPunc', 'Period', 'Comma', 'Colon', 'SemiC',\n",
    "       'QMark', 'Exclam', 'Dash', 'Quote', 'Apostro', 'Parenth', 'OtherP'])\n",
    "\n",
    "df4.head()"
   ]
  },
  {
   "cell_type": "code",
   "execution_count": 11,
   "metadata": {},
   "outputs": [],
   "source": [
    "#df4.to_csv('UserReviewsURL.csv', index=False, encoding='ISO-8859-1')"
   ]
  },
  {
   "cell_type": "code",
   "execution_count": 12,
   "metadata": {},
   "outputs": [
    {
     "name": "stdout",
     "output_type": "stream",
     "text": [
      "Number of non-null rows in 'title' column: 319662\n",
      "Total number of rows in the DataFrame: 319662\n"
     ]
    },
    {
     "data": {
      "text/plain": [
       "0                            bronson\n",
       "1                           disgrace\n",
       "2                    a screaming man\n",
       "3                     lovers of hate\n",
       "4    phil ochs there but for fortune\n",
       "Name: title, dtype: object"
      ]
     },
     "execution_count": 12,
     "metadata": {},
     "output_type": "execute_result"
    }
   ],
   "source": [
    "# Load the file with a different encoding (e.g., 'ISO-8859-1' or 'latin1')\n",
    "df41 = pd.read_csv('C:\\\\Users\\\\pc\\\\Downloads\\\\Test\\\\UserReviewsURL.csv',  encoding='ISO-8859-1')  \n",
    "df41.head()\n",
    "\n",
    "def extract_last_part(url):\n",
    "    path = urlparse(url).path\n",
    "    title = path.split('/')[-1]\n",
    "    return title\n",
    "\n",
    "# Apply the function to the 'URL' column to create a new 'title' column\n",
    "df41['title'] = df41['url'].apply(extract_last_part)\n",
    "\n",
    "# Function to clean the title text\n",
    "def clean_text(text):\n",
    "    if pd.isna(text):  # Check if the text is NaN\n",
    "        return ''  # Return an empty string or handle NaN as needed\n",
    "     #Convert text to lowercase\n",
    "    text = text.lower()\n",
    "    # Remove special characters using regex (keeping only alphanumeric characters and spaces)\n",
    "    text = re.sub(r'[^a-z0-9\\s]', ' ', text)\n",
    "    return text\n",
    "\n",
    "\n",
    "# Drop duplicates in the 'title' column to show each title just once\n",
    "userReviews_unique_titles = df41['title'].drop_duplicates().reset_index(drop=True).apply(clean_text)\n",
    "\n",
    "# Count non-null values in the 'title' column\n",
    "non_null_count = df41['title'].count()\n",
    "print(f\"Number of non-null rows in 'title' column: {non_null_count}\")\n",
    "\n",
    "# Count total rows in the DataFrame\n",
    "total_rows = df41.shape[0]\n",
    "print(f\"Total number of rows in the DataFrame: {total_rows}\")\n",
    "\n",
    "#print(unique_titles)\n",
    "userReviews_unique_titles.head()"
   ]
  },
  {
   "cell_type": "code",
   "execution_count": 13,
   "metadata": {},
   "outputs": [],
   "source": [
    "#userReviews_unique_titles.to_csv('userReviewsUniqueMovieTitles.csv', index=False, encoding='ISO-8859-1')"
   ]
  },
  {
   "cell_type": "code",
   "execution_count": 14,
   "metadata": {},
   "outputs": [
    {
     "name": "stdout",
     "output_type": "stream",
     "text": [
      "                        TITLE     ID\n",
      "0                bakha satang      1\n",
      "1                   antitrust      2\n",
      "2                    santitos      3\n",
      "3          frank mcklusky c i      4\n",
      "4          a walk to remember      5\n",
      "...                       ...    ...\n",
      "34416         metropolis 2002  34417\n",
      "34417          lovely amazing  34418\n",
      "34418              siddhartha  34419\n",
      "34419  rocco and his brothers  34420\n",
      "34420       y tu mama tambien  34421\n",
      "\n",
      "[34421 rows x 2 columns]\n"
     ]
    }
   ],
   "source": [
    "# Paths to the CSV files\n",
    "allMovieTitlesDataFrames = [\n",
    "    'C:\\\\Users\\\\pc\\\\Downloads\\\\Test\\\\salesDataMovieTitles.csv',\n",
    "    'C:\\\\Users\\\\pc\\\\Downloads\\\\Test\\\\metaCleanMovieTitles.csv',\n",
    "    'C:\\\\Users\\\\pc\\\\Downloads\\\\Test\\\\expertReviewsUniqueMovieTitles.csv',\n",
    "    'C:\\\\Users\\\\pc\\\\Downloads\\\\Test\\\\userReviewsUniqueMovieTitles.csv'\n",
    "]\n",
    "\n",
    "# List to store DataFrames\n",
    "dataframes = []\n",
    "\n",
    "# Read each CSV file, rename the column to 'TITLE', and store them in the list\n",
    "for file_path in allMovieTitlesDataFrames:\n",
    "    df = pd.read_csv(file_path, encoding='ISO-8859-1')\n",
    "    df.columns = ['TITLE']  # Ensure the column is named 'TITLE'\n",
    "    dataframes.append(df)\n",
    "\n",
    "# Concatenate all DataFrames into a single DataFrame\n",
    "combined_df = pd.concat(dataframes, ignore_index=True)\n",
    "\n",
    "#___________________________________________________\n",
    "\n",
    "# Clean the 'TITLE' column:\n",
    "# 1. Convert titles to lowercase\n",
    "# 2. Strip any leading/trailing whitespace\n",
    "combined_df['TITLE'] = combined_df['TITLE'].str.lower().str.strip()\n",
    "\n",
    "# Remove duplicate rows based on the 'TITLE' column\n",
    "unique_df = combined_df.drop_duplicates(subset=['TITLE']).reset_index(drop=True)\n",
    "\n",
    "# Assign a unique ID to each row\n",
    "unique_df['ID'] = range(1, len(unique_df) + 1)\n",
    "\n",
    "# Print the resulting DataFrame\n",
    "print(unique_df)\n",
    "\n",
    "#print(combined_df)\n"
   ]
  },
  {
   "cell_type": "code",
   "execution_count": 15,
   "metadata": {},
   "outputs": [],
   "source": [
    "# Save the resulting DataFrame to a new CSV file\n",
    "#unique_df.to_csv('allMoviesWithUniqueID.csv', index=False, encoding='ISO-8859-1')"
   ]
  },
  {
   "cell_type": "code",
   "execution_count": 16,
   "metadata": {},
   "outputs": [
    {
     "name": "stdout",
     "output_type": "stream",
     "text": [
      "Results found for 'mr roosevelt':\n",
      "               TITLE     ID\n",
      "31910  mr roosevelt  31911\n"
     ]
    }
   ],
   "source": [
    "def search_title(unique_df, search_term):\n",
    "    # Convert the 'TITLE' column to lowercase, replacing NaNs with an empty string\n",
    "    unique_df['TITLE'] = unique_df['TITLE'].fillna('').str.lower()\n",
    "    \n",
    "    # Convert the search term to lowercase\n",
    "    search_term = search_term.lower()\n",
    "    \n",
    "    # Filter the DataFrame to find rows where 'TITLE' contains the search term\n",
    "    result_df = unique_df[unique_df['TITLE'].str.contains(search_term)]\n",
    "    \n",
    "    # Check if the result is empty\n",
    "    if result_df.empty:\n",
    "        print(f\"No results found for '{search_term}'\")\n",
    "    else:\n",
    "        print(f\"Results found for '{search_term}':\\n\", result_df)\n",
    "\n",
    "# Example usage to search for a specific Movie_title\n",
    "search_term ='Mr Roosevelt'  # You can replace 'Bronson' with the title you're looking for\n",
    "search_title(unique_df, search_term)\n"
   ]
  }
 ],
 "metadata": {
  "kernelspec": {
   "display_name": "base",
   "language": "python",
   "name": "python3"
  },
  "language_info": {
   "codemirror_mode": {
    "name": "ipython",
    "version": 3
   },
   "file_extension": ".py",
   "mimetype": "text/x-python",
   "name": "python",
   "nbconvert_exporter": "python",
   "pygments_lexer": "ipython3",
   "version": "3.12.4"
  },
  "orig_nbformat": 4
 },
 "nbformat": 4,
 "nbformat_minor": 2
}
