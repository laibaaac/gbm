{
 "cells": [
  {
   "cell_type": "code",
   "execution_count": 19,
   "metadata": {},
   "outputs": [],
   "source": [
    "import pandas as pd\n",
    "from urllib.parse import urlparse\n",
    "import re"
   ]
  },
  {
   "cell_type": "code",
   "execution_count": 20,
   "metadata": {},
   "outputs": [],
   "source": [
    "def extract_title_from_url(url):\n",
    "    path = urlparse(url).path\n",
    "    title = path.split('/')[-1]\n",
    "    return title.replace('-', ' ').title()\n",
    "\n",
    "df_expert = pd.read_csv('ExpertReviewsClean43LIWC.txt', delimiter='\\t', encoding='ISO-8859-1')\n",
    "df_sales = pd.read_csv('SalesData_with_ids (1).csv', sep=None, engine='python', encoding='ISO-8859-1')\n",
    "\n",
    "df_expert['title'] = df_expert['url'].apply(extract_title_from_url).str.lower()\n"
   ]
  },
  {
   "cell_type": "code",
   "execution_count": 21,
   "metadata": {},
   "outputs": [],
   "source": [
    "df_expert['ExpertReview_ID'] = range(1, len(df_expert) + 1)"
   ]
  },
  {
   "cell_type": "code",
   "execution_count": 22,
   "metadata": {},
   "outputs": [],
   "source": [
    "import re \n",
    "\n",
    "number_map = {\n",
    "    \"zero\": \"0\", \"one\": \"1\", \"two\": \"2\", \"three\": \"3\", \"four\": \"4\",\n",
    "    \"five\": \"5\", \"six\": \"6\", \"seven\": \"7\", \"eight\": \"8\", \"nine\": \"9\",\n",
    "    \"ten\": \"10\", \"eleven\": \"11\", \"twelve\": \"12\", \"thirteen\": \"13\", \"fourteen\": \"14\",\n",
    "    \"fifteen\": \"15\", \"sixteen\": \"16\", \"seventeen\": \"17\", \"eighteen\": \"18\", \"nineteen\": \"19\",\n",
    "    \"twenty\": \"20\"\n",
    "}\n",
    "\n",
    "def clean_title(title):\n",
    "    title = re.sub(r'\\(\\d{4}\\)', '', title)\n",
    "    title = re.sub(r'[^\\w\\s]', '', title)\n",
    "    return title\n",
    "\n",
    "def move_articles_to_end(title):\n",
    "    words = title.split()\n",
    "    if words[0].lower() in [\"the\", \"a\"]:\n",
    "        words = words[1:] + [words[0]]\n",
    "    return ' '.join(words)\n",
    "\n",
    "def roman_to_arabic(roman):\n",
    "    roman_numerals = {'I': 1, 'V': 5, 'X': 10, 'L': 50, 'C': 100, 'D': 500, 'M': 1000}\n",
    "    arabic = 0\n",
    "    prev_value = 0\n",
    "    for char in roman[::-1]:  \n",
    "        value = roman_numerals.get(char, 0)\n",
    "        if value >= prev_value:\n",
    "            arabic += value\n",
    "        else:\n",
    "            arabic -= value\n",
    "        prev_value = value\n",
    "    return arabic\n",
    "\n",
    "def convert_roman_to_arabic(title):\n",
    "    words = title.split()\n",
    "    converted_words = []\n",
    "    for word in words:\n",
    "        try:\n",
    "            if re.match(r'^[IVXLCDM]+$', word.upper()):  \n",
    "                converted_words.append(str(roman_to_arabic(word.upper())))\n",
    "            else:\n",
    "                converted_words.append(word)\n",
    "        except (ValueError, KeyError):\n",
    "            converted_words.append(word)\n",
    "    return ' '.join(converted_words)\n",
    "\n",
    "\n",
    "def convert_text_numbers_to_digits(title):\n",
    "    words = title.split()\n",
    "    converted_words = [number_map.get(word, word) for word in words] \n",
    "    return ' '.join(converted_words)\n",
    "\n",
    "def normalize_title(title):\n",
    "    title = title.lower()  \n",
    "    title = clean_title(title)  \n",
    "    title = move_articles_to_end(title) \n",
    "    title = convert_roman_to_arabic(title)  \n",
    "    title = convert_text_numbers_to_digits(title) \n",
    "    return title\n",
    "\n",
    "df_expert['normalized_title'] = df_expert['title'].apply(normalize_title)\n",
    "\n",
    "df_sales['normalized_title'] = df_sales['title'].apply(normalize_title)\n",
    "\n",
    "df_expert = df_expert.merge(df_sales[['normalized_title', 'Movie_ID']], \n",
    "                                          on='normalized_title', how='left')"
   ]
  },
  {
   "cell_type": "code",
   "execution_count": 23,
   "metadata": {},
   "outputs": [
    {
     "name": "stdout",
     "output_type": "stream",
     "text": [
      "                                        url  idvscore            reviewer  \\\n",
      "0  https://www.metacritic.com/movie/bronson     100.0    \"Andrew O'Hehir\"   \n",
      "1  https://www.metacritic.com/movie/bronson      90.0        'A.O. Scott'   \n",
      "2  https://www.metacritic.com/movie/bronson      90.0                None   \n",
      "3  https://www.metacritic.com/movie/bronson      83.0       'Noel Murray'   \n",
      "4  https://www.metacritic.com/movie/bronson      80.0   'Joshua Rothkopf'   \n",
      "\n",
      "   dateP                                                Rev  WC  Analytic  \\\n",
      "0   None   'Bronson owes a little or a lot to Kubrick s ...  25     73.88   \n",
      "1   None   'Bronson invites you to admire its protagonis...  30     13.07   \n",
      "2   None   'Whether it s Peterson/Bronson s more theatri...  40     72.69   \n",
      "3   None   'There are two Bronsons on display here: the ...  39     65.46   \n",
      "4   None   'Refn has somehow found his way to an authent...  24     88.46   \n",
      "\n",
      "   Clout  Authentic   Tone  ...  Exclam   Dash  Quote  Apostro  Parenth  \\\n",
      "0  11.52       6.70  25.77  ...     0.0   0.00    0.0     8.00      0.0   \n",
      "1  97.69       1.00  99.00  ...     0.0   0.00    0.0     6.67      0.0   \n",
      "2  77.33       7.84   2.89  ...     0.0  12.50    0.0     5.00      0.0   \n",
      "3  99.00       1.00  25.77  ...     0.0   0.00    0.0     5.13      0.0   \n",
      "4  89.42       1.79  25.77  ...     0.0   4.17    0.0     8.33      0.0   \n",
      "\n",
      "   OtherP    title  ExpertReview_ID  normalized_title  Movie_ID  \n",
      "0     0.0  bronson                1           bronson   19702.0  \n",
      "1     0.0  bronson                2           bronson   19702.0  \n",
      "2     2.5  bronson                3           bronson   19702.0  \n",
      "3     0.0  bronson                4           bronson   19702.0  \n",
      "4     0.0  bronson                5           bronson   19702.0  \n",
      "\n",
      "[5 rows x 102 columns]\n"
     ]
    }
   ],
   "source": [
    "print(df_expert.head())"
   ]
  },
  {
   "cell_type": "code",
   "execution_count": 24,
   "metadata": {},
   "outputs": [],
   "source": [
    "movie_table = df_sales[['Movie_ID', 'title', 'runtime', 'theatre_count']]\n",
    "movie_expert_review = df_expert[['Movie_ID', 'ExpertReview_ID']]\n",
    "expert_review_table = df_expert[['ExpertReview_ID', 'url', 'posemo', 'negemo']]"
   ]
  },
  {
   "cell_type": "code",
   "execution_count": 25,
   "metadata": {},
   "outputs": [
    {
     "name": "stdout",
     "output_type": "stream",
     "text": [
      "   Movie_ID                   title  runtime  theatre_count\n",
      "0         1  bakha satang (s korea)    129.0            NaN\n",
      "1         2               antitrust      NaN         2433.0\n",
      "2         3                santitos    105.0            NaN\n",
      "3         4      frank mcklusky c i      NaN            NaN\n",
      "4         5      walk to remember a      NaN         2411.0\n",
      "   Movie_ID  ExpertReview_ID\n",
      "0   19702.0                1\n",
      "1   19702.0                2\n",
      "2   19702.0                3\n",
      "3   19702.0                4\n",
      "4   19702.0                5\n",
      "   ExpertReview_ID                                       url  posemo  negemo\n",
      "0                1  https://www.metacritic.com/movie/bronson    0.00    0.00\n",
      "1                2  https://www.metacritic.com/movie/bronson    6.67    0.00\n",
      "2                3  https://www.metacritic.com/movie/bronson    0.00    2.50\n",
      "3                4  https://www.metacritic.com/movie/bronson    5.13    5.13\n",
      "4                5  https://www.metacritic.com/movie/bronson    0.00    0.00\n"
     ]
    }
   ],
   "source": [
    "print(movie_table.head())\n",
    "print(movie_expert_review.head())\n",
    "print(expert_review_table.head())"
   ]
  },
  {
   "cell_type": "code",
   "execution_count": 26,
   "metadata": {},
   "outputs": [],
   "source": [
    "movie_table.to_csv('Movie_Table.csv', index=False, sep='\\t', encoding='ISO-8859-1')\n",
    "movie_expert_review.to_csv('Movie_ExpertReview.csv', index=False, sep='\\t', encoding='ISO-8859-1')\n",
    "expert_review_table.to_csv('ExpertReview_Table.csv', index=False, sep='\\t', encoding='ISO-8859-1')"
   ]
  }
 ],
 "metadata": {
  "kernelspec": {
   "display_name": "DM",
   "language": "python",
   "name": "python3"
  },
  "language_info": {
   "codemirror_mode": {
    "name": "ipython",
    "version": 3
   },
   "file_extension": ".py",
   "mimetype": "text/x-python",
   "name": "python",
   "nbconvert_exporter": "python",
   "pygments_lexer": "ipython3",
   "version": "3.12.4"
  }
 },
 "nbformat": 4,
 "nbformat_minor": 2
}
