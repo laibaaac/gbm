{
 "cells": [
  {
   "cell_type": "code",
   "execution_count": 1,
   "metadata": {},
   "outputs": [],
   "source": [
    "import pandas as pd\n",
    "import re\n",
    "from urllib.parse import urlparse"
   ]
  },
  {
   "cell_type": "code",
   "execution_count": 15,
   "metadata": {},
   "outputs": [],
   "source": [
    "# Read the Sales Data file\n",
    "df_BoxOffice = pd.read_csv('C:\\\\Users\\\\pc\\\\Downloads\\\\Test\\\\BoxOfficeWithUniqueID.csv',  encoding='ISO-8859-1') \n",
    "df_MovieIDTable = pd.read_csv('allMoviesWithUniqueID.csv', sep=None, engine='python', encoding='ISO-8859-1')\n",
    "df_MovieIDTable = df_MovieIDTable.rename(columns={\"ID\": \"Movie_ID\"})"
   ]
  },
  {
   "cell_type": "code",
   "execution_count": 16,
   "metadata": {},
   "outputs": [
    {
     "name": "stdout",
     "output_type": "stream",
     "text": [
      "Index(['Movie_ID', 'worldwide_box_office'], dtype='object')\n",
      "Index(['TITLE', 'Movie_ID'], dtype='object')\n"
     ]
    }
   ],
   "source": [
    "print(df_BoxOffice.columns)\n",
    "print(df_MovieIDTable.columns)\n"
   ]
  },
  {
   "cell_type": "code",
   "execution_count": 18,
   "metadata": {},
   "outputs": [
    {
     "data": {
      "text/html": [
       "<div>\n",
       "<style scoped>\n",
       "    .dataframe tbody tr th:only-of-type {\n",
       "        vertical-align: middle;\n",
       "    }\n",
       "\n",
       "    .dataframe tbody tr th {\n",
       "        vertical-align: top;\n",
       "    }\n",
       "\n",
       "    .dataframe thead th {\n",
       "        text-align: right;\n",
       "    }\n",
       "</style>\n",
       "<table border=\"1\" class=\"dataframe\">\n",
       "  <thead>\n",
       "    <tr style=\"text-align: right;\">\n",
       "      <th></th>\n",
       "      <th>TITLE</th>\n",
       "      <th>Movie_ID</th>\n",
       "      <th>worldwide_box_office</th>\n",
       "    </tr>\n",
       "  </thead>\n",
       "  <tbody>\n",
       "    <tr>\n",
       "      <th>0</th>\n",
       "      <td>bakha satang</td>\n",
       "      <td>1</td>\n",
       "      <td>76576.0</td>\n",
       "    </tr>\n",
       "    <tr>\n",
       "      <th>1</th>\n",
       "      <td>antitrust</td>\n",
       "      <td>2</td>\n",
       "      <td>17865209.0</td>\n",
       "    </tr>\n",
       "    <tr>\n",
       "      <th>2</th>\n",
       "      <td>santitos</td>\n",
       "      <td>3</td>\n",
       "      <td>NaN</td>\n",
       "    </tr>\n",
       "    <tr>\n",
       "      <th>3</th>\n",
       "      <td>frank mcklusky c i</td>\n",
       "      <td>4</td>\n",
       "      <td>NaN</td>\n",
       "    </tr>\n",
       "    <tr>\n",
       "      <th>4</th>\n",
       "      <td>a walk to remember</td>\n",
       "      <td>5</td>\n",
       "      <td>46060861.0</td>\n",
       "    </tr>\n",
       "  </tbody>\n",
       "</table>\n",
       "</div>"
      ],
      "text/plain": [
       "                TITLE  Movie_ID  worldwide_box_office\n",
       "0        bakha satang         1               76576.0\n",
       "1           antitrust         2            17865209.0\n",
       "2            santitos         3                   NaN\n",
       "3  frank mcklusky c i         4                   NaN\n",
       "4  a walk to remember         5            46060861.0"
      ]
     },
     "execution_count": 18,
     "metadata": {},
     "output_type": "execute_result"
    }
   ],
   "source": [
    "# Merge the two dataframes on 'Movie_ID' column\n",
    "df_NewMovieTable = pd.merge(df_MovieIDTable, df_BoxOffice[['Movie_ID', 'worldwide_box_office']], on='Movie_ID', how='left')\n",
    "\n",
    "# Display the merged dataframe\n",
    "df_NewMovieTable.head()\n"
   ]
  },
  {
   "cell_type": "code",
   "execution_count": 20,
   "metadata": {},
   "outputs": [],
   "source": [
    "#df_NewMovieTable.to_csv('NewMovieTable.csv', index=False, encoding='ISO-8859-1')"
   ]
  },
  {
   "cell_type": "code",
   "execution_count": 30,
   "metadata": {},
   "outputs": [],
   "source": [
    "import psycopg2\n",
    "\n",
    "try:\n",
    "    # Connect to the PostgreSQL database\n",
    "    conn = psycopg2.connect(\n",
    "        dbname='DMGroupAssignment',\n",
    "        user='postgres',\n",
    "        password='Okpanachi',\n",
    "        host='localhost',\n",
    "        port='5432'\n",
    "    )\n",
    "\n",
    "    cursor = conn.cursor()\n",
    "\n",
    "    # Create the Movie table\n",
    "    create_table_query = \"\"\"\n",
    "    CREATE TABLE IF NOT EXISTS MovieTable (\n",
    "        Movie_ID INTEGER PRIMARY KEY,\n",
    "        TITLE VARCHAR(255),\n",
    "        worldwide_box_office DECIMAL(15, 2)\n",
    "    );\n",
    "    \"\"\"\n",
    "    cursor.execute(create_table_query)\n",
    "    conn.commit()\n",
    "\n",
    "    # Insert data into the MovieTable\n",
    "    insert_query = \"\"\"\n",
    "    INSERT INTO MovieTable (Movie_ID, TITLE, worldwide_box_office)\n",
    "    VALUES (%s, %s, %s)\n",
    "    ON CONFLICT (Movie_ID) DO UPDATE\n",
    "    SET TITLE = EXCLUDED.TITLE,\n",
    "        worldwide_box_office = EXCLUDED.worldwide_box_office;\n",
    "    \"\"\"\n",
    "\n",
    "    # Loop through the DataFrame and execute the insert query for each row\n",
    "    for index, row in df_NewMovieTable.iterrows():\n",
    "        cursor.execute(insert_query, (row['Movie_ID'], row['TITLE'], row['worldwide_box_office']))\n",
    "\n",
    "    # Commit the transaction to save changes to the database\n",
    "    conn.commit()\n",
    "\n",
    "except Exception as error:\n",
    "    print(f\"Error: {error}\")\n",
    "\n",
    "finally:\n",
    "    # Ensure the cursor and connection are closed\n",
    "    if cursor:\n",
    "        cursor.close()\n",
    "    if conn:\n",
    "        conn.close()\n"
   ]
  }
 ],
 "metadata": {
  "kernelspec": {
   "display_name": "base",
   "language": "python",
   "name": "python3"
  },
  "language_info": {
   "codemirror_mode": {
    "name": "ipython",
    "version": 3
   },
   "file_extension": ".py",
   "mimetype": "text/x-python",
   "name": "python",
   "nbconvert_exporter": "python",
   "pygments_lexer": "ipython3",
   "version": "3.12.4"
  },
  "orig_nbformat": 4
 },
 "nbformat": 4,
 "nbformat_minor": 2
}
