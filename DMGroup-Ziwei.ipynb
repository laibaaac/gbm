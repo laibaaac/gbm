{
 "cells": [
  {
   "cell_type": "code",
   "execution_count": 1,
   "metadata": {},
   "outputs": [],
   "source": [
    "import pandas as pd\n",
    "from urllib.parse import urlparse\n",
    "import re"
   ]
  },
  {
   "cell_type": "code",
   "execution_count": 2,
   "metadata": {},
   "outputs": [],
   "source": [
    "def extract_title_from_url_expert(url):\n",
    "    path = urlparse(url).path\n",
    "    title = path.split('/')[-1]\n",
    "    return title.replace('-', ' ').title()\n",
    "df_expert = pd.read_csv('ExpertReviewsClean43LIWC.txt', delimiter='\\t', encoding='ISO-8859-1')\n",
    "df_MovieTable = pd.read_csv('allMoviesWithUniqueID.csv', sep=None, engine='python', encoding='ISO-8859-1')\n",
    "\n",
    "# I named the dataframe of Jayy's table as \"df_MovieTable\" and I change the column name to \"Movie_ID\" for it was \"ID\" in the csv\n",
    "df_MovieTable = df_MovieTable.rename(columns={\"ID\": \"Movie_ID\"})\n",
    "df_expert['title'] = df_expert['url'].apply(extract_title_from_url_expert).str.lower()\n"
   ]
  },
  {
   "cell_type": "code",
   "execution_count": 3,
   "metadata": {},
   "outputs": [],
   "source": [
    "df_expert['ExpertReview_ID'] = range(1, len(df_expert) + 1)"
   ]
  },
  {
   "cell_type": "code",
   "execution_count": 4,
   "metadata": {},
   "outputs": [
    {
     "name": "stdout",
     "output_type": "stream",
     "text": [
      "                                        url  idvscore            reviewer  \\\n",
      "0  https://www.metacritic.com/movie/bronson     100.0    \"Andrew O'Hehir\"   \n",
      "1  https://www.metacritic.com/movie/bronson      90.0        'A.O. Scott'   \n",
      "2  https://www.metacritic.com/movie/bronson      90.0                None   \n",
      "3  https://www.metacritic.com/movie/bronson      83.0       'Noel Murray'   \n",
      "4  https://www.metacritic.com/movie/bronson      80.0   'Joshua Rothkopf'   \n",
      "\n",
      "   dateP                                                Rev  WC  Analytic  \\\n",
      "0   None   'Bronson owes a little or a lot to Kubrick s ...  25     73.88   \n",
      "1   None   'Bronson invites you to admire its protagonis...  30     13.07   \n",
      "2   None   'Whether it s Peterson/Bronson s more theatri...  40     72.69   \n",
      "3   None   'There are two Bronsons on display here: the ...  39     65.46   \n",
      "4   None   'Refn has somehow found his way to an authent...  24     88.46   \n",
      "\n",
      "   Clout  Authentic   Tone  ...  Exclam   Dash  Quote  Apostro  Parenth  \\\n",
      "0  11.52       6.70  25.77  ...     0.0   0.00    0.0     8.00      0.0   \n",
      "1  97.69       1.00  99.00  ...     0.0   0.00    0.0     6.67      0.0   \n",
      "2  77.33       7.84   2.89  ...     0.0  12.50    0.0     5.00      0.0   \n",
      "3  99.00       1.00  25.77  ...     0.0   0.00    0.0     5.13      0.0   \n",
      "4  89.42       1.79  25.77  ...     0.0   4.17    0.0     8.33      0.0   \n",
      "\n",
      "   OtherP    title  ExpertReview_ID  normalized_title  Movie_ID  \n",
      "0     0.0  bronson                1           bronson   19419.0  \n",
      "1     0.0  bronson                2           bronson   19419.0  \n",
      "2     2.5  bronson                3           bronson   19419.0  \n",
      "3     0.0  bronson                4           bronson   19419.0  \n",
      "4     0.0  bronson                5           bronson   19419.0  \n",
      "\n",
      "[5 rows x 102 columns]\n"
     ]
    }
   ],
   "source": [
    "# I use the same codes as Jayys' to clean the title so that to avoid errors\n",
    "def clean_text(text):\n",
    "    if pd.isna(text):  # Check if the text is NaN\n",
    "        return ''  # Return an empty string or handle NaN as needed\n",
    "    # Remove special characters using regex (keeping only alphanumeric characters and spaces)\n",
    "    text = re.sub(r'[^a-z0-9\\s]', ' ', text)\n",
    "    return text\n",
    "\n",
    "df_expert['normalized_title'] = df_expert['title'].apply(clean_text)\n",
    "df_MovieTable['normalized_title'] = df_MovieTable['TITLE'].apply(clean_text)\n",
    "df_expert = df_expert.merge(df_MovieTable[['normalized_title', 'Movie_ID']], \n",
    "                                          on='normalized_title', how='left')\n",
    "\n",
    "print(df_expert.head())\n"
   ]
  },
  {
   "cell_type": "code",
   "execution_count": 5,
   "metadata": {},
   "outputs": [],
   "source": [
    "df_Movie_Expert = df_expert[['Movie_ID', 'ExpertReview_ID']]\n",
    "df_Expert_Review = df_expert[['ExpertReview_ID', 'url', 'posemo', 'negemo']]"
   ]
  },
  {
   "cell_type": "code",
   "execution_count": 6,
   "metadata": {},
   "outputs": [],
   "source": [
    "df_Movie_Expert = df_Movie_Expert.dropna()\n",
    "df_Movie_Expert['Movie_ID'] = df_Movie_Expert['Movie_ID'].astype(int)\n",
    "df_Movie_Expert['ExpertReview_ID'] = df_Movie_Expert['ExpertReview_ID'].astype(int)"
   ]
  },
  {
   "cell_type": "code",
   "execution_count": 7,
   "metadata": {},
   "outputs": [
    {
     "name": "stdout",
     "output_type": "stream",
     "text": [
      "   Movie_ID  ExpertReview_ID\n",
      "0     19419                1\n",
      "1     19419                2\n",
      "2     19419                3\n",
      "3     19419                4\n",
      "4     19419                5\n"
     ]
    }
   ],
   "source": [
    "print(df_Movie_Expert.head())"
   ]
  },
  {
   "cell_type": "code",
   "execution_count": 8,
   "metadata": {},
   "outputs": [],
   "source": [
    "df_Movie_Expert.to_csv('Movie_Expert.csv', index=False, encoding='ISO-8859-1')"
   ]
  },
  {
   "cell_type": "code",
   "execution_count": 9,
   "metadata": {},
   "outputs": [],
   "source": [
    "import psycopg2\n",
    "from psycopg2 import sql"
   ]
  },
  {
   "cell_type": "code",
   "execution_count": 10,
   "metadata": {},
   "outputs": [],
   "source": [
    "conn = psycopg2.connect(\n",
    "    dbname='DMGroupAssignment',\n",
    "    user='postgres',\n",
    "    password='201026',\n",
    "    host='localhost',\n",
    "    port='5432'\n",
    ")\n",
    "\n",
    "cursor = conn.cursor()\n",
    "\n",
    "create_table_query = \"\"\"\n",
    "CREATE TABLE expert_reviews (\n",
    "    ExpertReview_ID INTEGER PRIMARY KEY,\n",
    "    Posemo FLOAT NOT NULL,\n",
    "    Negemo FLOAT NOT NULL\n",
    ");\n",
    "\"\"\"\n",
    "\n",
    "cursor.execute(create_table_query)\n",
    "\n",
    "conn.commit()\n",
    "\n",
    "insert_query = \"\"\"\n",
    "INSERT INTO expert_reviews (ExpertReview_ID, posemo, negemo)\n",
    "VALUES ( %s, %s, %s)\n",
    "ON CONFLICT (ExpertReview_ID) DO UPDATE\n",
    "SET Posemo = EXCLUDED.Posemo,\n",
    "    Negemo = EXCLUDED.Negemo;\n",
    "\"\"\"\n",
    "for index, row in df_Expert_Review.iterrows():\n",
    "    cursor.execute(insert_query, (row['ExpertReview_ID'], row['posemo'], row['negemo']))\n",
    "\n",
    "\n",
    "conn.commit()\n",
    "\n",
    "cursor.close()\n",
    "conn.close()"
   ]
  },
  {
   "cell_type": "code",
   "execution_count": 11,
   "metadata": {},
   "outputs": [],
   "source": [
    "conn = psycopg2.connect(\n",
    "    dbname='DMGroupAssignment',\n",
    "    user='postgres',\n",
    "    password='201026',\n",
    "    host='localhost',\n",
    "    port='5432'\n",
    ")\n",
    "\n",
    "cursor = conn.cursor()\n",
    "\n",
    "create_table_query = \"\"\"\n",
    "CREATE TABLE Movie_Expert (\n",
    "    ExpertReview_ID INTEGER PRIMARY KEY,\n",
    "    Movie_ID INTEGER NOT NULL\n",
    ");\n",
    "\"\"\"\n",
    "\n",
    "cursor.execute(create_table_query)\n",
    "\n",
    "conn.commit()\n",
    "\n",
    "insert_query = \"\"\"\n",
    "INSERT INTO Movie_Expert (ExpertReview_ID, Movie_ID)\n",
    "VALUES ( %s, %s)\n",
    "ON CONFLICT (ExpertReview_ID) DO UPDATE\n",
    "SET Movie_ID = EXCLUDED.Movie_ID;\n",
    "\"\"\"\n",
    "for index, row in df_Movie_Expert.iterrows():\n",
    "    cursor.execute(insert_query, (int(row['ExpertReview_ID']), int(row['Movie_ID'])))\n",
    "\n",
    "\n",
    "conn.commit()\n",
    "\n",
    "cursor.close()\n",
    "conn.close()"
   ]
  },
  {
   "cell_type": "code",
   "execution_count": 13,
   "metadata": {},
   "outputs": [],
   "source": [
    "conn = psycopg2.connect(\n",
    "    dbname='DMGroupAssignment',\n",
    "    user='postgres',\n",
    "    password='201026',\n",
    "    host='localhost',\n",
    "    port='5432'\n",
    ")\n",
    "\n",
    "cursor = conn.cursor()\n",
    "\n",
    "create_table_query = \"\"\"\n",
    "CREATE TABLE Movie_Table (\n",
    "    Movie_ID INTEGER PRIMARY KEY,\n",
    "    Title TEXT NOT NULL\n",
    ");\n",
    "\"\"\"\n",
    "\n",
    "cursor.execute(create_table_query)\n",
    "\n",
    "conn.commit()\n",
    "\n",
    "insert_query = \"\"\"\n",
    "INSERT INTO Movie_Table (Movie_ID, Title)\n",
    "VALUES ( %s, %s)\n",
    "ON CONFLICT (Movie_ID) DO UPDATE\n",
    "SET Title = EXCLUDED.Title;\n",
    "\"\"\"\n",
    "for index, row in df_MovieTable.iterrows():\n",
    "    cursor.execute(insert_query, (int(row['Movie_ID']), row['TITLE']))\n",
    "\n",
    "\n",
    "conn.commit()\n",
    "\n",
    "cursor.close()\n",
    "conn.close()"
   ]
  }
 ],
 "metadata": {
  "kernelspec": {
   "display_name": "DM",
   "language": "python",
   "name": "python3"
  },
  "language_info": {
   "codemirror_mode": {
    "name": "ipython",
    "version": 3
   },
   "file_extension": ".py",
   "mimetype": "text/x-python",
   "name": "python",
   "nbconvert_exporter": "python",
   "pygments_lexer": "ipython3",
   "version": "3.12.4"
  }
 },
 "nbformat": 4,
 "nbformat_minor": 2
}
