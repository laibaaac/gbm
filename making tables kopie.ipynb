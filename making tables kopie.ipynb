{
 "cells": [
  {
   "cell_type": "code",
   "execution_count": 13,
   "metadata": {},
   "outputs": [],
   "source": [
    "import pandas as pd\n",
    "import re\n",
    "from urllib.parse import urlparse"
   ]
  },
  {
   "cell_type": "code",
   "execution_count": 33,
   "metadata": {},
   "outputs": [
    {
     "name": "stdout",
     "output_type": "stream",
     "text": [
      "Columns in SalesInfo DataFrame: Index(['year', 'release_date', 'title', 'genre', 'international_box_office',\n",
      "       'domestic_box_office', 'worldwide_box_office', 'production_budget',\n",
      "       'Unnamed: 8', 'opening_weekend', 'theatre_count', 'avg run per theatre',\n",
      "       'runtime', 'keywords', 'creative_type', 'url'],\n",
      "      dtype='object')\n",
      "Index(['year', 'release_date', 'title', 'genre', 'international_box_office',\n",
      "       'domestic_box_office', 'worldwide_box_office', 'production_budget',\n",
      "       'normalized_title', 'Movie_ID'],\n",
      "      dtype='object')\n",
      "       year    release_date title            genre international_box_office  \\\n",
      "31594  2021   November 18th                 Comedy                 13744,00   \n",
      "31595  2019  September 27th                 Comedy               1975617,00   \n",
      "31596  2019  September 27th                 Comedy               1975617,00   \n",
      "31597  2020    January 16th        Romantic Comedy               8060952,00   \n",
      "31598  2020    January 16th        Romantic Comedy               8060952,00   \n",
      "\n",
      "      domestic_box_office worldwide_box_office production_budget  \\\n",
      "31594                 NaN             13744,00               NaN   \n",
      "31595                 NaN           1975617,00               NaN   \n",
      "31596                 NaN           1975617,00               NaN   \n",
      "31597                 NaN           8060952,00               NaN   \n",
      "31598                 NaN           8060952,00               NaN   \n",
      "\n",
      "      normalized_title  Movie_ID  \n",
      "31594                       2878  \n",
      "31595                       1191  \n",
      "31596                       2878  \n",
      "31597                       1191  \n",
      "31598                       2878  \n"
     ]
    }
   ],
   "source": [
    "# Read the Sales Data file\n",
    "df_SalesInfo = pd.read_csv('/Users/daan/Desktop/HVA/Database management/salesfinal1.csv', sep=';', encoding='ISO-8859-1')\n",
    "df_MovieTable = pd.read_csv('/Users/daan/Desktop/HVA/Database management/allMoviesWithUniqueID kopie.csv', sep=None, engine='python', encoding='ISO-8859-1')\n",
    "df_MovieTable = df_MovieTable.rename(columns={\"ID\": \"Movie_ID\"})\n",
    "\n",
    "# Check which columns exist in the dataframe\n",
    "print(\"Columns in SalesInfo DataFrame:\", df_SalesInfo.columns)\n",
    "\n",
    "# Define the list of columns to drop\n",
    "columns_to_drop = ['Unnamed: 8', 'opening_weekend', 'theatre_count', 'avg run per theatre',\n",
    "                   'runtime', 'keywords', 'creative_type', 'url']\n",
    "\n",
    "# Drop columns that are present in the dataframe\n",
    "df_SalesInfo = df_SalesInfo.drop(columns=[col for col in columns_to_drop if col in df_SalesInfo.columns])\n",
    "\n",
    "# Define a text cleaning function\n",
    "def clean_text(text):\n",
    "    if pd.isna(text):  # Check if the text is NaN\n",
    "        return ''  # Return an empty string or handle NaN as needed\n",
    "    # Convert text to lowercase and remove special characters\n",
    "    text = text.lower()\n",
    "    text = re.sub(r'[^a-z0-9\\s]', ' ', text)\n",
    "    text = re.sub(r'\\s+', ' ', text).strip()\n",
    "    return text\n",
    "\n",
    "# Apply the cleaning function to the 'title' column\n",
    "df_SalesInfo['title'] = df_SalesInfo['title'].apply(clean_text)\n",
    "\n",
    "# Normalize titles for both dataframes\n",
    "df_SalesInfo['normalized_title'] = df_SalesInfo['title'].apply(clean_text)\n",
    "df_MovieTable['normalized_title'] = df_MovieTable['TITLE'].apply(clean_text)\n",
    "\n",
    "# Merge dataframes on the normalized title\n",
    "df_SalesInfo = df_SalesInfo.merge(df_MovieTable[['normalized_title', 'Movie_ID']], \n",
    "                                  on='normalized_title', how='left')\n",
    "\n",
    "# Convert the 'Movie_ID' column to integer to remove decimals\n",
    "df_SalesInfo['Movie_ID'] = df_SalesInfo['Movie_ID'].fillna(0).astype(int)\n",
    "\n",
    "# Remove duplicate rows based on all columns\n",
    "df_SalesInfo = df_SalesInfo.drop_duplicates()\n",
    "\n",
    "# Display the columns and last few rows\n",
    "print(df_SalesInfo.columns)\n",
    "print(df_SalesInfo.tail())\n",
    "\n"
   ]
  },
  {
   "cell_type": "code",
   "execution_count": 34,
   "metadata": {},
   "outputs": [
    {
     "name": "stdout",
     "output_type": "stream",
     "text": [
      "title\n",
      "<class 'str'>    31599\n",
      "Name: count, dtype: int64\n"
     ]
    }
   ],
   "source": [
    "print(df_SalesInfo['title'].apply(type).value_counts())"
   ]
  },
  {
   "cell_type": "code",
   "execution_count": 35,
   "metadata": {},
   "outputs": [
    {
     "name": "stdout",
     "output_type": "stream",
     "text": [
      "Unmatched rows in df_SalesInfo:\n",
      "Empty DataFrame\n",
      "Columns: [title, normalized_title]\n",
      "Index: []\n"
     ]
    }
   ],
   "source": [
    "unmatched_Sales = df_SalesInfo[df_SalesInfo['Movie_ID'].isna()]\n",
    "\n",
    "print(\"Unmatched rows in df_SalesInfo:\")\n",
    "print(unmatched_Sales[['title', 'normalized_title']])\n",
    "\n",
    "#merged_df.to_csv('merged.csv', index=False, encoding='ISO-8859-1')"
   ]
  },
  {
   "cell_type": "code",
   "execution_count": 36,
   "metadata": {},
   "outputs": [],
   "source": [
    "df_SalesInfo = df_SalesInfo.drop(columns=['domestic_box_office', 'worldwide_box_office', 'normalized_title'])"
   ]
  },
  {
   "cell_type": "code",
   "execution_count": 37,
   "metadata": {},
   "outputs": [],
   "source": [
    "df_SalesInfo.to_csv('/Users/daan/Desktop/HVA/Database management/FinalSales1.csv', index=False)"
   ]
  },
  {
   "cell_type": "code",
   "execution_count": null,
   "metadata": {},
   "outputs": [],
   "source": []
  }
 ],
 "metadata": {
  "kernelspec": {
   "display_name": "base",
   "language": "python",
   "name": "python3"
  },
  "language_info": {
   "codemirror_mode": {
    "name": "ipython",
    "version": 3
   },
   "file_extension": ".py",
   "mimetype": "text/x-python",
   "name": "python",
   "nbconvert_exporter": "python",
   "pygments_lexer": "ipython3",
   "version": "3.12.4"
  }
 },
 "nbformat": 4,
 "nbformat_minor": 2
}
