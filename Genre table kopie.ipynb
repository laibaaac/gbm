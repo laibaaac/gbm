{
 "cells": [
  {
   "cell_type": "code",
   "execution_count": 3,
   "metadata": {},
   "outputs": [],
   "source": [
    "import pandas as pd\n",
    "import re\n",
    "from urllib.parse import urlparse"
   ]
  },
  {
   "cell_type": "code",
   "execution_count": 24,
   "metadata": {},
   "outputs": [
    {
     "name": "stdout",
     "output_type": "stream",
     "text": [
      "                     title   genre genre_id\n",
      "0             bakha satang   Drama      g06\n",
      "1                 santitos     NaN      NaN\n",
      "2  chiedimi se sono felice  Comedy      g03\n",
      "3              raju chacha     NaN      NaN\n",
      "4    shadow of the vampire   Drama      g06\n"
     ]
    }
   ],
   "source": [
    "# Read the Sales Data file\n",
    "df_SalesData = pd.read_csv('/Users/daan/Desktop/HVA/Database management/salesfinal1.csv',  sep=None, engine='python', encoding='ISO-8859-1')\n",
    "df_NMovieTable = pd.read_csv('/Users/daan/Desktop/HVA/Database management/NewMovieTable 1.csv', sep=None, engine='python', encoding='ISO-8859-1')\n",
    "\n",
    "# View the columns to check if it works\n",
    "#print(df1.columns)\n",
    "\n",
    "# Drop unnecessary columns from SalesData\n",
    "df_SalesData = df_SalesData.drop(columns=['year', 'international_box_office', 'domestic_box_office', 'worldwide_box_office', 'release_date', 'Unnamed: 8', 'opening_weekend', 'theatre_count', 'avg run per theatre',\n",
    "       'runtime', 'production_budget', 'keywords', 'creative_type', 'url'])\n",
    "\n",
    "def clean_text(text):\n",
    "    if pd.isna(text):  # Check if the text is NaN\n",
    "        return ''  # Return an empty string or handle NaN as needed\n",
    "    # Convert text to lowercase\n",
    "    text = text.lower()\n",
    "    text = re.sub(r'[^a-z0-9\\s]', ' ', text)\n",
    "    text = re.sub(r'\\s+', ' ', text).strip()\n",
    "    return text\n",
    "\n",
    "\n",
    "# Apply the cleaning function to the 'title' column\n",
    "df_SalesData['title'] = df_SalesData['title'].apply(clean_text)\n",
    "\n",
    "df_SalesData['normalized_title'] = df_SalesData['title'].apply(clean_text)\n",
    "df_NMovieTable['normalized_title'] = df_NMovieTable['TITLE'].apply(clean_text)\n",
    "\n",
    "df_SalesData = df_SalesData.merge(df_NMovieTable[['normalized_title', 'Movie_ID']], \n",
    "                                             on='normalized_title', how='left')\n",
    "\n",
    "\n",
    "df_SalesData = df_SalesData.drop_duplicates()\n",
    "\n",
    "\n",
    "\n",
    "# Handle NaN values in the 'genre' column by excluding them from the ID assignment\n",
    "# We'll only assign IDs to rows where 'genre' is not NaN\n",
    "df_SalesData['genre_id'] = (\n",
    "    df_SalesData['genre']\n",
    "    .where(df_SalesData['genre'].notna())  # Keep NaN as NaN\n",
    "    .groupby(df_SalesData['genre'])\n",
    "    .ngroup()  # Assign unique integers to each genre group\n",
    "    .astype('Int64')  # Ensures that NaN is retained and non-NaN values are integers\n",
    ")\n",
    "\n",
    "# Convert non-NaN values to string and pad with leading zeros, leave NaN as it is\n",
    "df_SalesData['genre_id'] = (\n",
    "    df_SalesData['genre_id']\n",
    "    #.apply(lambda x: str(x).zfill(4) if pd.notna(x) else x)  # Format with leading zeros\n",
    "    #.apply(lambda x: generate_genre_id() if pd.notna(x) else None)\n",
    "    #.apply(lambda x: 'g' + str(x).zfill(4) if pd.notna(x) else x)  # Prefix 'g' and format with leading zeros\n",
    "    .apply(\n",
    "    lambda x: f\"g{int(x):02}\" if pd.notna(x) else x  # Ensures 'g' prefix and removes .0\n",
    "    )\n",
    ")\n",
    "\n",
    "# Print the columns and the final DataFrame\n",
    "print(df_SalesData[['title', 'genre', 'genre_id']].head())"
   ]
  },
  {
   "cell_type": "code",
   "execution_count": 25,
   "metadata": {},
   "outputs": [
    {
     "name": "stdout",
     "output_type": "stream",
     "text": [
      "title\n",
      "<class 'str'>    31358\n",
      "Name: count, dtype: int64\n"
     ]
    }
   ],
   "source": [
    "print(df_SalesData['title'].apply(type).value_counts())"
   ]
  },
  {
   "cell_type": "code",
   "execution_count": 26,
   "metadata": {},
   "outputs": [
    {
     "name": "stdout",
     "output_type": "stream",
     "text": [
      "Unmatched rows in df_SalesData:\n",
      "Empty DataFrame\n",
      "Columns: [title, normalized_title]\n",
      "Index: []\n"
     ]
    }
   ],
   "source": [
    "Genre_Sales = df_SalesData[df_SalesData['Movie_ID'].isna()]\n",
    "\n",
    "print(\"Unmatched rows in df_SalesData:\")\n",
    "print(Genre_Sales[['title', 'normalized_title']])"
   ]
  },
  {
   "cell_type": "code",
   "execution_count": 27,
   "metadata": {},
   "outputs": [
    {
     "name": "stdout",
     "output_type": "stream",
     "text": [
      "Index(['title', 'genre', 'normalized_title', 'Movie_ID', 'genre_id'], dtype='object')\n"
     ]
    }
   ],
   "source": [
    "print(df_SalesData.columns)"
   ]
  },
  {
   "cell_type": "code",
   "execution_count": 28,
   "metadata": {},
   "outputs": [
    {
     "name": "stdout",
     "output_type": "stream",
     "text": [
      "  genre_id   genre  Movie_ID\n",
      "0      g06   Drama         1\n",
      "1      NaN     NaN         3\n",
      "2      g03  Comedy     17328\n",
      "3      NaN     NaN     17329\n",
      "4      g06   Drama     17330\n"
     ]
    }
   ],
   "source": [
    "df_Genre_Sales = df_SalesData[['genre_id', 'genre','Movie_ID']]\n",
    "print(df_Genre_Sales.head())"
   ]
  },
  {
   "cell_type": "code",
   "execution_count": 31,
   "metadata": {},
   "outputs": [],
   "source": [
    "import psycopg2\n",
    "import pandas as pd\n",
    "\n",
    "# Connect to PostgreSQL\n",
    "conn = psycopg2.connect(\n",
    "    dbname='DBM',\n",
    "    user='postgres',\n",
    "    password='Dk141621?18!',\n",
    "    host='localhost',\n",
    "    port='5432'\n",
    ")\n",
    "\n",
    "# Create a cursor object\n",
    "cursor = conn.cursor()\n",
    "\n",
    "# Define the table creation query\n",
    "create_table_query = \"\"\"\n",
    "CREATE TABLE IF NOT EXISTS Genre (\n",
    "    genre_ID INTEGER PRIMARY KEY,\n",
    "    genre TEXT NOT NULL,\n",
    "    Movie_ID INTEGER NOT NULL\n",
    ");\n",
    "\"\"\"\n",
    "\n",
    "# Execute the table creation query\n",
    "cursor.execute(create_table_query)\n",
    "\n",
    "# Commit the changes\n",
    "conn.commit()\n",
    "\n",
    "# Define the insert query\n",
    "insert_query = \"\"\"\n",
    "INSERT INTO Genre (genre_ID, genre, Movie_ID)\n",
    "VALUES (%s, %s, %s)\n",
    "ON CONFLICT (genre_ID) DO UPDATE\n",
    "SET genre = EXCLUDED.genre,\n",
    "    Movie_ID = EXCLUDED.Movie_ID;\n",
    "\"\"\"\n",
    "\n",
    "# Insert data into the table\n",
    "for index, row in df_Genre.iterrows():\n",
    "    cursor.execute(insert_query, (row['genre_id'], row['genre'], row['Movie_ID']))\n",
    "\n",
    "# Commit the changes\n",
    "conn.commit()\n",
    "\n",
    "# Close the cursor and connection\n",
    "cursor.close()\n",
    "conn.close()\n"
   ]
  },
  {
   "cell_type": "code",
   "execution_count": null,
   "metadata": {},
   "outputs": [],
   "source": []
  }
 ],
 "metadata": {
  "kernelspec": {
   "display_name": "base",
   "language": "python",
   "name": "python3"
  },
  "language_info": {
   "codemirror_mode": {
    "name": "ipython",
    "version": 3
   },
   "file_extension": ".py",
   "mimetype": "text/x-python",
   "name": "python",
   "nbconvert_exporter": "python",
   "pygments_lexer": "ipython3",
   "version": "3.12.4"
  }
 },
 "nbformat": 4,
 "nbformat_minor": 2
}
