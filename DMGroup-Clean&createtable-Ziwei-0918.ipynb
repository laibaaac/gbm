{
 "cells": [
  {
   "cell_type": "code",
   "execution_count": 2,
   "metadata": {},
   "outputs": [],
   "source": [
    "import pandas as pd\n",
    "from urllib.parse import urlparse\n",
    "import re"
   ]
  },
  {
   "cell_type": "markdown",
   "metadata": {},
   "source": [
    "Cleaning Work-Ziwei Xu-500954406"
   ]
  },
  {
   "cell_type": "code",
   "execution_count": 3,
   "metadata": {},
   "outputs": [],
   "source": [
    "def extract_title_from_url_expert(url):\n",
    "    path = urlparse(url).path\n",
    "    title = path.split('/')[-1]\n",
    "    return title.replace('-', ' ').title()\n",
    "df_expert = pd.read_csv('ExpertReviewsClean43LIWC.txt', delimiter='\\t', encoding='ISO-8859-1')\n",
    "df_meta = pd.read_csv('metaClean43Brightspace.txt', delimiter='\\t', encoding='ISO-8859-1')\n",
    "df_MovieID = pd.read_csv('allMoviesWithUniqueID.csv', sep=None, engine='python', encoding='ISO-8859-1')\n",
    "\n",
    "# I named the dataframe of Jayy's table as \"df_MovieTable\" and I change the column name to \"Movie_ID\" for it was \"ID\" in the csv\n",
    "df_MovieID = df_MovieID.rename(columns={\"ID\": \"Movie_ID\"})\n",
    "df_expert['title'] = df_expert['url'].apply(extract_title_from_url_expert).str.lower()\n"
   ]
  },
  {
   "cell_type": "code",
   "execution_count": 4,
   "metadata": {},
   "outputs": [],
   "source": [
    "df_expert['ExpertReview_ID'] = range(1, len(df_expert) + 1)"
   ]
  },
  {
   "cell_type": "code",
   "execution_count": 5,
   "metadata": {},
   "outputs": [],
   "source": [
    "def clean_text_Meta_Expert(text):\n",
    "    if pd.isna(text): \n",
    "        return ''  \n",
    "    text = text.lower()\n",
    "    # Remove special characters using regex (keeping only alphanumeric characters and spaces)\n",
    "    text = re.sub(r'[^a-z0-9\\s]', ' ', text)\n",
    "    text = re.sub(r'\\s+', ' ', text).strip()\n",
    "    text = re.sub(r'[^\\w]', '', text)\n",
    "    return text\n",
    "\n",
    "df_expert['normalized_title'] = df_expert['title'].apply(clean_text_Meta_Expert)\n",
    "df_meta['normalized_title'] = df_meta['title'].apply(clean_text_Meta_Expert)\n",
    "df_MovieID['normalized_title'] = df_MovieID['TITLE'].apply(clean_text_Meta_Expert)\n",
    "\n",
    "df_expert['normalized_title'] = df_expert['normalized_title'].fillna('')\n",
    "df_meta['normalized_title'] = df_meta['normalized_title'].fillna('')\n",
    "df_MovieID['normalized_title'] = df_MovieID['normalized_title'].fillna('')\n",
    "\n",
    "df_expert = df_expert.merge(df_MovieID[['normalized_title', 'Movie_ID']], \n",
    "                                          on='normalized_title', how='left')\n",
    "df_meta = df_meta.merge(df_MovieID[['normalized_title', 'Movie_ID']], \n",
    "                                          on='normalized_title', how='left')\n"
   ]
  },
  {
   "cell_type": "code",
   "execution_count": 6,
   "metadata": {},
   "outputs": [
    {
     "name": "stdout",
     "output_type": "stream",
     "text": [
      "Unmatched rows in df_expert:\n",
      "Empty DataFrame\n",
      "Columns: [title, normalized_title]\n",
      "Index: []\n",
      "Unmatched rows in df_meta:\n",
      "Empty DataFrame\n",
      "Columns: [title, normalized_title]\n",
      "Index: []\n"
     ]
    }
   ],
   "source": [
    "unmatched_expert = df_expert[df_expert['Movie_ID'].isna()]\n",
    "unmatched_meta = df_meta[df_meta['Movie_ID'].isna()]\n",
    "\n",
    "print(\"Unmatched rows in df_expert:\")\n",
    "print(unmatched_expert[['title', 'normalized_title']])\n",
    "\n",
    "print(\"Unmatched rows in df_meta:\")\n",
    "print(unmatched_meta[['title', 'normalized_title']])"
   ]
  },
  {
   "cell_type": "code",
   "execution_count": 7,
   "metadata": {},
   "outputs": [],
   "source": [
    "df_Movie_Expert = df_expert[['Movie_ID', 'ExpertReview_ID']]\n",
    "df_Expert_Review = df_expert[['ExpertReview_ID', 'url', 'posemo', 'negemo']]\n",
    "df_MetaTable = df_meta[['Movie_ID', 'metascore', 'RelDate']]"
   ]
  },
  {
   "cell_type": "code",
   "execution_count": 8,
   "metadata": {},
   "outputs": [
    {
     "name": "stdout",
     "output_type": "stream",
     "text": [
      "   Movie_ID  metascore    RelDate\n",
      "0     15211         70   2011/6/1\n",
      "1     29944         70   2011/6/1\n",
      "2     17228         76  2016/3/11\n",
      "3     29945         54  2006/12/1\n",
      "4     10790         61  2012/9/14\n"
     ]
    }
   ],
   "source": [
    "print(df_MetaTable.head())"
   ]
  },
  {
   "cell_type": "code",
   "execution_count": 8,
   "metadata": {},
   "outputs": [],
   "source": [
    "df_Movie_Expert.to_csv('Movie_Expert.csv', index=False, sep='\\t', encoding='ISO-8859-1')\n",
    "df_Expert_Review.to_csv('expert_reviews.csv', index=False, sep='\\t', encoding='ISO-8859-1')\n",
    "df_MetaTable.to_csv('MetaTable.csv', index=False, sep='\\t', encoding='ISO-8859-1')"
   ]
  },
  {
   "cell_type": "code",
   "execution_count": 9,
   "metadata": {},
   "outputs": [],
   "source": [
    "df_NewMovieTable = pd.read_csv('NewMovieTable.csv', sep=None, engine='python', encoding='ISO-8859-1')"
   ]
  },
  {
   "cell_type": "code",
   "execution_count": 11,
   "metadata": {},
   "outputs": [],
   "source": [
    "import psycopg2\n",
    "from psycopg2 import sql"
   ]
  },
  {
   "cell_type": "code",
   "execution_count": 12,
   "metadata": {},
   "outputs": [],
   "source": [
    "conn = psycopg2.connect(\n",
    "    dbname='DMGroupAssignment',\n",
    "    user='postgres',\n",
    "    password='201026',\n",
    "    host='localhost',\n",
    "    port='5432'\n",
    ")\n",
    "\n",
    "cursor = conn.cursor()\n",
    "\n",
    "create_table_query = \"\"\"\n",
    "CREATE TABLE expert_reviews (\n",
    "    ExpertReview_ID INTEGER PRIMARY KEY,\n",
    "    Posemo FLOAT NOT NULL,\n",
    "    Negemo FLOAT NOT NULL\n",
    ");\n",
    "\"\"\"\n",
    "\n",
    "cursor.execute(create_table_query)\n",
    "\n",
    "conn.commit()\n",
    "\n",
    "insert_query = \"\"\"\n",
    "INSERT INTO expert_reviews (ExpertReview_ID, posemo, negemo)\n",
    "VALUES ( %s, %s, %s)\n",
    "ON CONFLICT (ExpertReview_ID) DO UPDATE\n",
    "SET Posemo = EXCLUDED.Posemo,\n",
    "    Negemo = EXCLUDED.Negemo;\n",
    "\"\"\"\n",
    "for index, row in df_Expert_Review.iterrows():\n",
    "    cursor.execute(insert_query, (row['ExpertReview_ID'], row['posemo'], row['negemo']))\n",
    "\n",
    "\n",
    "conn.commit()\n",
    "\n",
    "cursor.close()\n",
    "conn.close()"
   ]
  },
  {
   "cell_type": "code",
   "execution_count": 13,
   "metadata": {},
   "outputs": [],
   "source": [
    "conn = psycopg2.connect(\n",
    "    dbname='DMGroupAssignment',\n",
    "    user='postgres',\n",
    "    password='201026',\n",
    "    host='localhost',\n",
    "    port='5432'\n",
    ")\n",
    "\n",
    "cursor = conn.cursor()\n",
    "\n",
    "create_table_query = \"\"\"\n",
    "CREATE TABLE Movie_Expert (\n",
    "    ExpertReview_ID INTEGER PRIMARY KEY,\n",
    "    Movie_ID INTEGER NOT NULL\n",
    ");\n",
    "\"\"\"\n",
    "\n",
    "cursor.execute(create_table_query)\n",
    "\n",
    "conn.commit()\n",
    "\n",
    "insert_query = \"\"\"\n",
    "INSERT INTO Movie_Expert (ExpertReview_ID, Movie_ID)\n",
    "VALUES ( %s, %s)\n",
    "ON CONFLICT (ExpertReview_ID) DO UPDATE\n",
    "SET Movie_ID = EXCLUDED.Movie_ID;\n",
    "\"\"\"\n",
    "for index, row in df_Movie_Expert.iterrows():\n",
    "    cursor.execute(insert_query, (int(row['ExpertReview_ID']), int(row['Movie_ID'])))\n",
    "\n",
    "\n",
    "conn.commit()\n",
    "\n",
    "cursor.close()\n",
    "conn.close()"
   ]
  },
  {
   "cell_type": "code",
   "execution_count": 14,
   "metadata": {},
   "outputs": [],
   "source": [
    "conn = psycopg2.connect(\n",
    "    dbname='DMGroupAssignment',\n",
    "    user='postgres',\n",
    "    password='201026',\n",
    "    host='localhost',\n",
    "    port='5432'\n",
    ")\n",
    "\n",
    "cursor = conn.cursor()\n",
    "\n",
    "create_table_query = \"\"\"\n",
    "CREATE TABLE Meta_Table (\n",
    "    Movie_ID INTEGER PRIMARY KEY,\n",
    "    MetaScore INTEGER NOT NULL,\n",
    "    Release_Date DATE NOT NULL\n",
    ");\n",
    "\"\"\"\n",
    "\n",
    "cursor.execute(create_table_query)\n",
    "\n",
    "conn.commit()\n",
    "\n",
    "insert_query = \"\"\"\n",
    "INSERT INTO Meta_Table (Movie_ID, MetaScore, Release_Date)\n",
    "VALUES ( %s, %s, %s)\n",
    "ON CONFLICT (Movie_ID) DO UPDATE\n",
    "SET MetaScore = EXCLUDED.MetaScore,\n",
    "    Release_Date = EXCLUDED.Release_Date;\n",
    "\"\"\"\n",
    "for index, row in df_MetaTable.iterrows():\n",
    "    cursor.execute(insert_query, (int(row['Movie_ID']), row['metascore'], row['RelDate']))\n",
    "\n",
    "\n",
    "conn.commit()\n",
    "\n",
    "cursor.close()\n",
    "conn.close()"
   ]
  },
  {
   "cell_type": "code",
   "execution_count": 12,
   "metadata": {},
   "outputs": [],
   "source": [
    "conn = psycopg2.connect(\n",
    "    dbname='DMGroupAssignment',\n",
    "    user='postgres',\n",
    "    password='201026',\n",
    "    host='localhost',\n",
    "    port='5432'\n",
    ")\n",
    "\n",
    "cursor = conn.cursor()\n",
    "\n",
    "create_table_query = \"\"\"\n",
    "CREATE TABLE New_Movie_Table (\n",
    "    Movie_ID INTEGER PRIMARY KEY,\n",
    "    Title TEXT NOT NULL,\n",
    "    Worldwide_Box_Office FLOAT NOT NULL\n",
    ");\n",
    "\"\"\"\n",
    "\n",
    "cursor.execute(create_table_query)\n",
    "\n",
    "conn.commit()\n",
    "\n",
    "insert_query = \"\"\"\n",
    "INSERT INTO New_Movie_Table (Movie_ID, Title,Worldwide_Box_Office)\n",
    "VALUES ( %s, %s, %s)\n",
    "ON CONFLICT (Movie_ID) DO UPDATE\n",
    "SET Title = EXCLUDED.Title,\n",
    "    Worldwide_Box_Office = EXCLUDED.Worldwide_Box_Office;\n",
    "\"\"\"\n",
    "for index, row in df_NewMovieTable.iterrows():\n",
    "    cursor.execute(insert_query, (int(row['Movie_ID']), row['TITLE'],row['worldwide_box_office']))\n",
    "\n",
    "\n",
    "conn.commit()\n",
    "\n",
    "cursor.close()\n",
    "conn.close()"
   ]
  }
 ],
 "metadata": {
  "kernelspec": {
   "display_name": "DM",
   "language": "python",
   "name": "python3"
  },
  "language_info": {
   "codemirror_mode": {
    "name": "ipython",
    "version": 3
   },
   "file_extension": ".py",
   "mimetype": "text/x-python",
   "name": "python",
   "nbconvert_exporter": "python",
   "pygments_lexer": "ipython3",
   "version": "3.12.4"
  }
 },
 "nbformat": 4,
 "nbformat_minor": 2
}
