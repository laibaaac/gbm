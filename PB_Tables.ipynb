{
 "cells": [
  {
   "cell_type": "code",
   "execution_count": 13,
   "metadata": {},
   "outputs": [],
   "source": [
    "#pip install psycopg2-binary\n"
   ]
  },
  {
   "cell_type": "code",
   "execution_count": 14,
   "metadata": {},
   "outputs": [],
   "source": [
    "import pandas as pd\n",
    "import re\n",
    "from urllib.parse import urlparse"
   ]
  },
  {
   "cell_type": "code",
   "execution_count": 15,
   "metadata": {},
   "outputs": [
    {
     "name": "stdout",
     "output_type": "stream",
     "text": [
      "Index(['title', 'international_box_office', 'domestic_box_office',\n",
      "       'worldwide_box_office', 'production_budget', 'normalized_title',\n",
      "       'Movie_ID'],\n",
      "      dtype='object')\n",
      "                             title  international_box_office  \\\n",
      "31594       jokbeoldu sinmun iyagi                   12356.0   \n",
      "31595             my salinger year                  914119.0   \n",
      "31596            escort vehicle 36                  240000.0   \n",
      "31597                      the dry                16987526.0   \n",
      "31598  posledniy bogatyr koren zla                33396899.0   \n",
      "\n",
      "       domestic_box_office  worldwide_box_office  production_budget  \\\n",
      "31594                  NaN               12356.0                NaN   \n",
      "31595              54730.0              968849.0                NaN   \n",
      "31596                  NaN              240000.0                NaN   \n",
      "31597             364397.0            17351923.0                NaN   \n",
      "31598                  NaN            33396899.0                NaN   \n",
      "\n",
      "                  normalized_title  Movie_ID  \n",
      "31594       jokbeoldu sinmun iyagi     29939  \n",
      "31595             my salinger year     29940  \n",
      "31596            escort vehicle 36     29941  \n",
      "31597                      the dry     29942  \n",
      "31598  posledniy bogatyr koren zla     29943  \n"
     ]
    }
   ],
   "source": [
    "# Read the Sales Data file\n",
    "df_SalesInfo = pd.read_csv('C:\\\\Users\\\\pc\\\\Downloads\\\\Test\\\\salesData.csv',  encoding='ISO-8859-1') \n",
    "df_MovieTable = pd.read_csv('allMoviesWithUniqueID.csv', sep=None, engine='python', encoding='ISO-8859-1')\n",
    "df_MovieTable = df_MovieTable.rename(columns={\"ID\": \"Movie_ID\"})\n",
    "\n",
    "# View the columns to check if it works\n",
    "#print(df1.columns)\n",
    "\n",
    "#drop all columns except title\n",
    "df_SalesInfo = df_SalesInfo.drop(columns=['year', 'release_date', 'genre',\n",
    "       'Unnamed: 8', 'opening_weekend', 'theatre_count', 'avg run per theatre',\n",
    "       'runtime', 'keywords', 'creative_type', 'url'])\n",
    "\n",
    "def clean_text(text):\n",
    "    if pd.isna(text):  # Check if the text is NaN\n",
    "        return ''  # Return an empty string or handle NaN as needed\n",
    "    # Convert text to lowercase\n",
    "    text = text.lower()\n",
    "    text = re.sub(r'[^a-z0-9\\s]', ' ', text)\n",
    "    text = re.sub(r'\\s+', ' ', text).strip()\n",
    "    return text\n",
    "\n",
    "\n",
    "# Apply the cleaning function to the 'title' column\n",
    "df_SalesInfo['title'] = df_SalesInfo['title'].apply(clean_text)\n",
    "\n",
    "df_SalesInfo['normalized_title'] = df_SalesInfo['title'].apply(clean_text)\n",
    "df_MovieTable['normalized_title'] = df_MovieTable['TITLE'].apply(clean_text)\n",
    "\n",
    "df_SalesInfo = df_SalesInfo.merge(df_MovieTable[['normalized_title', 'Movie_ID']], \n",
    "                                             on='normalized_title', how='left')\n",
    "\n",
    "\n",
    "df_SalesInfo = df_SalesInfo.drop_duplicates()\n",
    "\n",
    "print(df_SalesInfo.columns)\n",
    "\n",
    "print(df_SalesInfo.tail())\n",
    "\n"
   ]
  },
  {
   "cell_type": "code",
   "execution_count": 16,
   "metadata": {},
   "outputs": [
    {
     "name": "stdout",
     "output_type": "stream",
     "text": [
      "title\n",
      "<class 'str'>    31575\n",
      "Name: count, dtype: int64\n"
     ]
    }
   ],
   "source": [
    "print(df_SalesInfo['title'].apply(type).value_counts())\n"
   ]
  },
  {
   "cell_type": "code",
   "execution_count": 17,
   "metadata": {},
   "outputs": [
    {
     "name": "stdout",
     "output_type": "stream",
     "text": [
      "Unmatched rows in df_SalesInfo:\n",
      "Empty DataFrame\n",
      "Columns: [title, normalized_title]\n",
      "Index: []\n"
     ]
    }
   ],
   "source": [
    "unmatched_Sales = df_SalesInfo[df_SalesInfo['Movie_ID'].isna()]\n",
    "\n",
    "print(\"Unmatched rows in df_SalesInfo:\")\n",
    "print(unmatched_Sales[['title', 'normalized_title']])\n",
    "\n",
    "#merged_df.to_csv('merged.csv', index=False, encoding='ISO-8859-1')"
   ]
  },
  {
   "cell_type": "code",
   "execution_count": 18,
   "metadata": {},
   "outputs": [
    {
     "name": "stdout",
     "output_type": "stream",
     "text": [
      "   Movie_ID  production_budget\n",
      "0         1                NaN\n",
      "1         2         30000000.0\n",
      "2         3                NaN\n",
      "3         4                NaN\n",
      "4         5         11000000.0\n"
     ]
    }
   ],
   "source": [
    "df_BudgetTable = df_SalesInfo[['Movie_ID', 'production_budget']]\n",
    "print(df_BudgetTable.head())"
   ]
  },
  {
   "cell_type": "code",
   "execution_count": 19,
   "metadata": {},
   "outputs": [],
   "source": [
    "#df_Box_Office.to_csv('BoxOfficeWithUniqueID.csv', index=False, encoding='ISO-8859-1')"
   ]
  },
  {
   "cell_type": "code",
   "execution_count": 20,
   "metadata": {},
   "outputs": [],
   "source": [
    "import psycopg2\n",
    "from psycopg2 import sql"
   ]
  },
  {
   "cell_type": "code",
   "execution_count": 22,
   "metadata": {},
   "outputs": [],
   "source": [
    "try:\n",
    "    # Connect to the PostgreSQL database\n",
    "    conn = psycopg2.connect(\n",
    "        dbname='DMGroupAssignment',\n",
    "        user='postgres',\n",
    "        password='Okpanachi',\n",
    "        host='localhost',\n",
    "        port='5432'\n",
    "    )\n",
    "\n",
    "    cursor = conn.cursor()\n",
    "\n",
    "    # Create the ProductionBudget table\n",
    "    create_table_query = \"\"\"\n",
    "    CREATE TABLE IF NOT EXISTS ProductionBudget (\n",
    "        Movie_ID INTEGER PRIMARY KEY,\n",
    "        production_budget DECIMAL(15, 2)\n",
    "    );\n",
    "    \"\"\"\n",
    "    cursor.execute(create_table_query)\n",
    "    conn.commit()\n",
    "\n",
    "    # Insert data into the ProductionBudget table with an upsert mechanism\n",
    "    insert_query = \"\"\"\n",
    "    INSERT INTO ProductionBudget (Movie_ID, production_budget)\n",
    "    VALUES (%s, %s)\n",
    "    ON CONFLICT (Movie_ID) DO UPDATE\n",
    "    SET production_budget = EXCLUDED.production_budget;\n",
    "    \"\"\"\n",
    "\n",
    "    # Loop through the DataFrame and execute the insert query for each row\n",
    "    for index, row in df_BudgetTable.iterrows():\n",
    "        cursor.execute(insert_query, (row['Movie_ID'], row['production_budget']))\n",
    "\n",
    "    # Commit the transaction to save changes to the database\n",
    "    conn.commit()\n",
    "\n",
    "except Exception as error:\n",
    "    print(f\"Error: {error}\")\n",
    "\n",
    "finally:\n",
    "    # Ensure the cursor and connection are closed\n",
    "    if cursor:\n",
    "        cursor.close()\n",
    "    if conn:\n",
    "        conn.close()\n"
   ]
  }
 ],
 "metadata": {
  "kernelspec": {
   "display_name": "base",
   "language": "python",
   "name": "python3"
  },
  "language_info": {
   "codemirror_mode": {
    "name": "ipython",
    "version": 3
   },
   "file_extension": ".py",
   "mimetype": "text/x-python",
   "name": "python",
   "nbconvert_exporter": "python",
   "pygments_lexer": "ipython3",
   "version": "3.12.4"
  },
  "orig_nbformat": 4
 },
 "nbformat": 4,
 "nbformat_minor": 2
}
