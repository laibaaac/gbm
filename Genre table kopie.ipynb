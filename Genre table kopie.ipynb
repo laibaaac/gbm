{
 "cells": [
  {
   "cell_type": "code",
   "execution_count": 1,
   "metadata": {},
   "outputs": [],
   "source": [
    "import pandas as pd\n",
    "import re\n",
    "from urllib.parse import urlparse"
   ]
  },
  {
   "cell_type": "code",
   "execution_count": 25,
   "metadata": {},
   "outputs": [
    {
     "name": "stdout",
     "output_type": "stream",
     "text": [
      "     genre  genre_id\n",
      "0    Drama         1\n",
      "1  Unknown         2\n",
      "2   Comedy         3\n",
      "3  Unknown         2\n",
      "4    Drama         1\n"
     ]
    }
   ],
   "source": [
    "# Read the file\n",
    "df_Genre = pd.read_csv('/Users/daan/Desktop/HVA/Database management/FinalSales1.csv', sep=',', encoding='ISO-8859-1')\n",
    "\n",
    "# Fill NaN values in 'genre' with a placeholder genre\n",
    "df_Genre['genre'] = df_Genre['genre'].fillna('Unknown')\n",
    "\n",
    "# Re-create the genre_id mapping after filling NaNs\n",
    "unique_genres = df_Genre['genre'].unique()\n",
    "genre_id_mapping = {genre: idx + 1 for idx, genre in enumerate(unique_genres)}\n",
    "\n",
    "# Map genres to IDs\n",
    "df_Genre['genre_id'] = df_Genre['genre'].map(genre_id_mapping)\n",
    "\n",
    "# View the updated dataframe with 'genre' and 'genre_id'\n",
    "print(df_Genre[['genre', 'genre_id']].head())\n",
    "\n"
   ]
  },
  {
   "cell_type": "code",
   "execution_count": 28,
   "metadata": {},
   "outputs": [
    {
     "name": "stdout",
     "output_type": "stream",
     "text": [
      "   genre_id    genre  Movie_ID\n",
      "0         1    Drama         1\n",
      "1         2  Unknown         3\n",
      "2         3   Comedy     17328\n",
      "3         2  Unknown     17329\n",
      "4         1    Drama     17330\n"
     ]
    }
   ],
   "source": [
    "import pandas as pd\n",
    "\n",
    "# Read the file\n",
    "df_Genre = pd.read_csv('/Users/daan/Desktop/HVA/Database management/FinalSales1.csv', sep=',', encoding='ISO-8859-1')\n",
    "\n",
    "# Fill NaN values in 'genre' with a placeholder genre\n",
    "df_Genre['genre'] = df_Genre['genre'].fillna('Unknown')\n",
    "\n",
    "# Re-create the genre_id mapping after filling NaNs\n",
    "unique_genres = df_Genre['genre'].unique()\n",
    "genre_id_mapping = {genre: idx + 1 for idx, genre in enumerate(unique_genres)}\n",
    "\n",
    "# Map genres to IDs\n",
    "df_Genre['genre_id'] = df_Genre['genre'].map(genre_id_mapping)\n",
    "\n",
    "# Ensure 'Movie_ID' is included and select relevant columns\n",
    "df_Genre = df_Genre[['genre_id', 'genre','Movie_ID']]\n",
    "\n",
    "# Print the updated DataFrame\n",
    "print(df_Genre.head())\n"
   ]
  },
  {
   "cell_type": "code",
   "execution_count": 29,
   "metadata": {},
   "outputs": [],
   "source": [
    "import psycopg2\n",
    "from psycopg2 import sql"
   ]
  },
  {
   "cell_type": "code",
   "execution_count": 31,
   "metadata": {},
   "outputs": [],
   "source": [
    "import psycopg2\n",
    "import pandas as pd\n",
    "\n",
    "# Connect to PostgreSQL\n",
    "conn = psycopg2.connect(\n",
    "    dbname='DBM',\n",
    "    user='postgres',\n",
    "    password='Dk141621?18!',\n",
    "    host='localhost',\n",
    "    port='5432'\n",
    ")\n",
    "\n",
    "# Create a cursor object\n",
    "cursor = conn.cursor()\n",
    "\n",
    "# Define the table creation query\n",
    "create_table_query = \"\"\"\n",
    "CREATE TABLE IF NOT EXISTS Genre (\n",
    "    Genre_ID INTEGER PRIMARY KEY,\n",
    "    genre TEXT NOT NULL,\n",
    "    Movie_ID INTEGER NOT NULL\n",
    ");\n",
    "\"\"\"\n",
    "\n",
    "# Execute the table creation query\n",
    "cursor.execute(create_table_query)\n",
    "\n",
    "# Commit the changes\n",
    "conn.commit()\n",
    "\n",
    "# Define the insert query\n",
    "insert_query = \"\"\"\n",
    "INSERT INTO expert_reviews (Genre_ID, genre, Movie_ID)\n",
    "VALUES (%s, %s, %s)\n",
    "ON CONFLICT (Genre_ID) DO UPDATE\n",
    "SET genre = EXCLUDED.genre,\n",
    "    Movie_ID = EXCLUDED.Movie_ID;\n",
    "\"\"\"\n",
    "\n",
    "# Read your dataframe (assuming you have it as df_Genre)\n",
    "df_Genre = pd.read_csv('/Users/daan/Desktop/HVA/Database management/FinalSales1.csv', sep=',', encoding='ISO-8859-1')\n",
    "df_Genre['genre'] = df_Genre['genre'].fillna('Unknown')\n",
    "unique_genres = df_Genre['genre'].unique()\n",
    "genre_id_mapping = {genre: idx + 1 for idx, genre in enumerate(unique_genres)}\n",
    "df_Genre['genre_id'] = df_Genre['genre'].map(genre_id_mapping)\n",
    "\n",
    "# Insert data into the table\n",
    "for index, row in df_Genre.iterrows():\n",
    "    cursor.execute(insert_query, (row['genre_id'], row['genre'], row['Movie_ID']))\n",
    "\n",
    "# Commit the changes\n",
    "conn.commit()\n",
    "\n",
    "# Close the cursor and connection\n",
    "cursor.close()\n",
    "conn.close()\n"
   ]
  },
  {
   "cell_type": "code",
   "execution_count": null,
   "metadata": {},
   "outputs": [],
   "source": []
  }
 ],
 "metadata": {
  "kernelspec": {
   "display_name": "base",
   "language": "python",
   "name": "python3"
  },
  "language_info": {
   "codemirror_mode": {
    "name": "ipython",
    "version": 3
   },
   "file_extension": ".py",
   "mimetype": "text/x-python",
   "name": "python",
   "nbconvert_exporter": "python",
   "pygments_lexer": "ipython3",
   "version": "3.12.4"
  }
 },
 "nbformat": 4,
 "nbformat_minor": 2
}
